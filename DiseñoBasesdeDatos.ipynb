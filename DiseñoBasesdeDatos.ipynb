{
 "cells": [
  {
   "cell_type": "markdown",
   "id": "544b1da3-aa84-4604-85ab-cd3fc32a7d21",
   "metadata": {},
   "source": [
    "# <span style='font-family:Segoe UI'> **Diseño y construcción de bases de datos**\n",
    "<span style='font-family:Segoe UI'> Bibiana Quintero Alonso\n",
    "    \n",
    "## <span style='font-family:Segoe UI'> **1. Bases de datos**\n",
    "    \n",
    "## <span style='font-family:Segoe UI'> **1.1 World database**\n",
    "    \n",
    "<span style='font-family:Segoe UI'> Esta base de datos está constituida por 3 tablas:\n",
    "\n",
    "<span style='font-family:Segoe UI'> **Country:** Posee 239 registros con información de diversos países, así como datos de características económicas y socio-políticas. \n",
    "    \n",
    "<span style='font-family:Segoe UI'> **City:** Posee 4079 registros de las ciudades principales de los países.\n",
    "    \n",
    "<span style='font-family:Segoe UI'> **Countrylanguage:** Posee 984 registros con los idiomas de los paises.\n"
   ]
  },
  {
   "cell_type": "code",
   "execution_count": 9,
   "id": "057ad18f-6db9-4179-9504-55d02311e3a9",
   "metadata": {},
   "outputs": [
    {
     "data": {
      "text/html": [
       "Query OK"
      ]
     },
     "metadata": {},
     "output_type": "display_data"
    }
   ],
   "source": [
    "source /home/bibianaq/Documentos/Bigdata/world.sql;"
   ]
  },
  {
   "cell_type": "code",
   "execution_count": 32,
   "id": "5a92a0bb-75b4-46ea-9cfe-91b4a17a3ff1",
   "metadata": {},
   "outputs": [
    {
     "data": {
      "text/html": [
       "Query OK"
      ]
     },
     "metadata": {},
     "output_type": "display_data"
    }
   ],
   "source": [
    "use world;"
   ]
  },
  {
   "cell_type": "code",
   "execution_count": 11,
   "id": "6e4536ff-55a2-4000-8a57-6394768c6485",
   "metadata": {},
   "outputs": [
    {
     "data": {
      "text/html": [
       "<html><body><table border=\"1\"><tr><th style=\"text-align:left;white-space:pre\">Tables_in_world</th></tr><tr><td style=\"text-align:left;white-space:pre\">city</td></tr><tr><td style=\"text-align:left;white-space:pre\">country</td></tr><tr><td style=\"text-align:left;white-space:pre\">countrylanguage</td></tr></table></body></html>"
      ]
     },
     "metadata": {},
     "output_type": "display_data"
    }
   ],
   "source": [
    "show tables;"
   ]
  },
  {
   "cell_type": "code",
   "execution_count": 5,
   "id": "fbfac53e-21ce-4b43-a413-4b20f6aec338",
   "metadata": {},
   "outputs": [
    {
     "data": {
      "text/html": [
       "<html><body><table border=\"1\"><tr><th style=\"text-align:left;white-space:pre\">Field</th><th style=\"text-align:left;white-space:pre\">Type</th><th style=\"text-align:left;white-space:pre\">Null</th><th style=\"text-align:left;white-space:pre\">Key</th><th style=\"text-align:left;white-space:pre\">Default</th><th style=\"text-align:left;white-space:pre\">Extra</th></tr><tr><td style=\"text-align:left;white-space:pre\">Code</td><td style=\"text-align:left;white-space:pre\">char(3)</td><td style=\"text-align:left;white-space:pre\">NO</td><td style=\"text-align:left;white-space:pre\">PRI</td><td style=\"text-align:left;white-space:pre\"></td><td style=\"text-align:left;white-space:pre\"></td></tr><tr><td style=\"text-align:left;white-space:pre\">Name</td><td style=\"text-align:left;white-space:pre\">char(52)</td><td style=\"text-align:left;white-space:pre\">NO</td><td style=\"text-align:left;white-space:pre\"></td><td style=\"text-align:left;white-space:pre\"></td><td style=\"text-align:left;white-space:pre\"></td></tr><tr><td style=\"text-align:left;white-space:pre\">Continent</td><td style=\"text-align:left;white-space:pre\">enum('Asia','Europe','North America','Africa','Oceania','Antarctica','South America')</td><td style=\"text-align:left;white-space:pre\">NO</td><td style=\"text-align:left;white-space:pre\"></td><td style=\"text-align:left;white-space:pre\">Asia</td><td style=\"text-align:left;white-space:pre\"></td></tr><tr><td style=\"text-align:left;white-space:pre\">Region</td><td style=\"text-align:left;white-space:pre\">char(26)</td><td style=\"text-align:left;white-space:pre\">NO</td><td style=\"text-align:left;white-space:pre\"></td><td style=\"text-align:left;white-space:pre\"></td><td style=\"text-align:left;white-space:pre\"></td></tr><tr><td style=\"text-align:left;white-space:pre\">SurfaceArea</td><td style=\"text-align:left;white-space:pre\">decimal(10,2)</td><td style=\"text-align:left;white-space:pre\">NO</td><td style=\"text-align:left;white-space:pre\"></td><td style=\"text-align:left;white-space:pre\">0.00</td><td style=\"text-align:left;white-space:pre\"></td></tr><tr><td style=\"text-align:left;white-space:pre\">IndepYear</td><td style=\"text-align:left;white-space:pre\">smallint(6)</td><td style=\"text-align:left;white-space:pre\">YES</td><td style=\"text-align:left;white-space:pre\"></td><td style=\"text-align:left;white-space:pre\">NULL</td><td style=\"text-align:left;white-space:pre\"></td></tr><tr><td style=\"text-align:left;white-space:pre\">Population</td><td style=\"text-align:left;white-space:pre\">int(11)</td><td style=\"text-align:left;white-space:pre\">NO</td><td style=\"text-align:left;white-space:pre\"></td><td style=\"text-align:left;white-space:pre\">0</td><td style=\"text-align:left;white-space:pre\"></td></tr><tr><td style=\"text-align:left;white-space:pre\">LifeExpectancy</td><td style=\"text-align:left;white-space:pre\">decimal(3,1)</td><td style=\"text-align:left;white-space:pre\">YES</td><td style=\"text-align:left;white-space:pre\"></td><td style=\"text-align:left;white-space:pre\">NULL</td><td style=\"text-align:left;white-space:pre\"></td></tr><tr><td style=\"text-align:left;white-space:pre\">GNP</td><td style=\"text-align:left;white-space:pre\">decimal(10,2)</td><td style=\"text-align:left;white-space:pre\">YES</td><td style=\"text-align:left;white-space:pre\"></td><td style=\"text-align:left;white-space:pre\">NULL</td><td style=\"text-align:left;white-space:pre\"></td></tr><tr><td style=\"text-align:left;white-space:pre\">GNPOld</td><td style=\"text-align:left;white-space:pre\">decimal(10,2)</td><td style=\"text-align:left;white-space:pre\">YES</td><td style=\"text-align:left;white-space:pre\"></td><td style=\"text-align:left;white-space:pre\">NULL</td><td style=\"text-align:left;white-space:pre\"></td></tr><tr><td style=\"text-align:left;white-space:pre\">LocalName</td><td style=\"text-align:left;white-space:pre\">char(45)</td><td style=\"text-align:left;white-space:pre\">NO</td><td style=\"text-align:left;white-space:pre\"></td><td style=\"text-align:left;white-space:pre\"></td><td style=\"text-align:left;white-space:pre\"></td></tr><tr><td style=\"text-align:left;white-space:pre\">GovernmentForm</td><td style=\"text-align:left;white-space:pre\">char(45)</td><td style=\"text-align:left;white-space:pre\">NO</td><td style=\"text-align:left;white-space:pre\"></td><td style=\"text-align:left;white-space:pre\"></td><td style=\"text-align:left;white-space:pre\"></td></tr><tr><td style=\"text-align:left;white-space:pre\">HeadOfState</td><td style=\"text-align:left;white-space:pre\">char(60)</td><td style=\"text-align:left;white-space:pre\">YES</td><td style=\"text-align:left;white-space:pre\"></td><td style=\"text-align:left;white-space:pre\">NULL</td><td style=\"text-align:left;white-space:pre\"></td></tr><tr><td style=\"text-align:left;white-space:pre\">Capital</td><td style=\"text-align:left;white-space:pre\">int(11)</td><td style=\"text-align:left;white-space:pre\">YES</td><td style=\"text-align:left;white-space:pre\"></td><td style=\"text-align:left;white-space:pre\">NULL</td><td style=\"text-align:left;white-space:pre\"></td></tr><tr><td style=\"text-align:left;white-space:pre\">Code2</td><td style=\"text-align:left;white-space:pre\">char(2)</td><td style=\"text-align:left;white-space:pre\">NO</td><td style=\"text-align:left;white-space:pre\"></td><td style=\"text-align:left;white-space:pre\"></td><td style=\"text-align:left;white-space:pre\"></td></tr></table></body></html>"
      ]
     },
     "metadata": {},
     "output_type": "display_data"
    }
   ],
   "source": [
    "describe country;"
   ]
  },
  {
   "cell_type": "code",
   "execution_count": 14,
   "id": "d4bb9da1-ed72-4c34-b919-3fdd96b97342",
   "metadata": {},
   "outputs": [
    {
     "data": {
      "text/html": [
       "<html><body><table border=\"1\"><tr><th style=\"text-align:left;white-space:pre\">Field</th><th style=\"text-align:left;white-space:pre\">Type</th><th style=\"text-align:left;white-space:pre\">Null</th><th style=\"text-align:left;white-space:pre\">Key</th><th style=\"text-align:left;white-space:pre\">Default</th><th style=\"text-align:left;white-space:pre\">Extra</th></tr><tr><td style=\"text-align:left;white-space:pre\">ID</td><td style=\"text-align:left;white-space:pre\">int(11)</td><td style=\"text-align:left;white-space:pre\">NO</td><td style=\"text-align:left;white-space:pre\">PRI</td><td style=\"text-align:left;white-space:pre\">NULL</td><td style=\"text-align:left;white-space:pre\">auto_increment</td></tr><tr><td style=\"text-align:left;white-space:pre\">Name</td><td style=\"text-align:left;white-space:pre\">char(35)</td><td style=\"text-align:left;white-space:pre\">NO</td><td style=\"text-align:left;white-space:pre\"></td><td style=\"text-align:left;white-space:pre\"></td><td style=\"text-align:left;white-space:pre\"></td></tr><tr><td style=\"text-align:left;white-space:pre\">CountryCode</td><td style=\"text-align:left;white-space:pre\">char(3)</td><td style=\"text-align:left;white-space:pre\">NO</td><td style=\"text-align:left;white-space:pre\">MUL</td><td style=\"text-align:left;white-space:pre\"></td><td style=\"text-align:left;white-space:pre\"></td></tr><tr><td style=\"text-align:left;white-space:pre\">District</td><td style=\"text-align:left;white-space:pre\">char(20)</td><td style=\"text-align:left;white-space:pre\">NO</td><td style=\"text-align:left;white-space:pre\"></td><td style=\"text-align:left;white-space:pre\"></td><td style=\"text-align:left;white-space:pre\"></td></tr><tr><td style=\"text-align:left;white-space:pre\">Population</td><td style=\"text-align:left;white-space:pre\">int(11)</td><td style=\"text-align:left;white-space:pre\">NO</td><td style=\"text-align:left;white-space:pre\"></td><td style=\"text-align:left;white-space:pre\">0</td><td style=\"text-align:left;white-space:pre\"></td></tr></table></body></html>"
      ]
     },
     "metadata": {},
     "output_type": "display_data"
    }
   ],
   "source": [
    "describe city;"
   ]
  },
  {
   "cell_type": "code",
   "execution_count": 6,
   "id": "8370bd66-8f88-4e9b-b8f5-c32c3f03653a",
   "metadata": {},
   "outputs": [
    {
     "data": {
      "text/html": [
       "<html><body><table border=\"1\"><tr><th style=\"text-align:left;white-space:pre\">Field</th><th style=\"text-align:left;white-space:pre\">Type</th><th style=\"text-align:left;white-space:pre\">Null</th><th style=\"text-align:left;white-space:pre\">Key</th><th style=\"text-align:left;white-space:pre\">Default</th><th style=\"text-align:left;white-space:pre\">Extra</th></tr><tr><td style=\"text-align:left;white-space:pre\">CountryCode</td><td style=\"text-align:left;white-space:pre\">char(3)</td><td style=\"text-align:left;white-space:pre\">NO</td><td style=\"text-align:left;white-space:pre\">PRI</td><td style=\"text-align:left;white-space:pre\"></td><td style=\"text-align:left;white-space:pre\"></td></tr><tr><td style=\"text-align:left;white-space:pre\">Language</td><td style=\"text-align:left;white-space:pre\">char(30)</td><td style=\"text-align:left;white-space:pre\">NO</td><td style=\"text-align:left;white-space:pre\">PRI</td><td style=\"text-align:left;white-space:pre\"></td><td style=\"text-align:left;white-space:pre\"></td></tr><tr><td style=\"text-align:left;white-space:pre\">IsOfficial</td><td style=\"text-align:left;white-space:pre\">enum('T','F')</td><td style=\"text-align:left;white-space:pre\">NO</td><td style=\"text-align:left;white-space:pre\"></td><td style=\"text-align:left;white-space:pre\">F</td><td style=\"text-align:left;white-space:pre\"></td></tr><tr><td style=\"text-align:left;white-space:pre\">Percentage</td><td style=\"text-align:left;white-space:pre\">decimal(4,1)</td><td style=\"text-align:left;white-space:pre\">NO</td><td style=\"text-align:left;white-space:pre\"></td><td style=\"text-align:left;white-space:pre\">0.0</td><td style=\"text-align:left;white-space:pre\"></td></tr></table></body></html>"
      ]
     },
     "metadata": {},
     "output_type": "display_data"
    }
   ],
   "source": [
    "describe countrylanguage;"
   ]
  },
  {
   "cell_type": "markdown",
   "id": "57b10261-f174-4391-9749-7d39a7734a94",
   "metadata": {},
   "source": [
    "## <span style='font-family:Segoe UI'> **Consultas SQL**\n",
    "\n",
    "<span style='font-family:Segoe UI'> **Indicadores socio-económicos de 10 países de Europa**"
   ]
  },
  {
   "cell_type": "code",
   "execution_count": 16,
   "id": "393fb1cd-cbff-4f56-b0a2-e7285fe836e3",
   "metadata": {},
   "outputs": [
    {
     "data": {
      "text/html": [
       "<html><body><table border=\"1\"><tr><th style=\"text-align:left;white-space:pre\">Code</th><th style=\"text-align:left;white-space:pre\">Name</th><th style=\"text-align:left;white-space:pre\">Densidad</th><th style=\"text-align:left;white-space:pre\">GNP per capita</th><th style=\"text-align:left;white-space:pre\">LifeExpectancy</th></tr><tr><td style=\"text-align:left;white-space:pre\">ALB</td><td style=\"text-align:left;white-space:pre\">Albania</td><td style=\"text-align:left;white-space:pre\">118.3108</td><td style=\"text-align:left;white-space:pre\">942</td><td style=\"text-align:left;white-space:pre\">71.6</td></tr><tr><td style=\"text-align:left;white-space:pre\">AND</td><td style=\"text-align:left;white-space:pre\">Andorra</td><td style=\"text-align:left;white-space:pre\">166.6667</td><td style=\"text-align:left;white-space:pre\">20897</td><td style=\"text-align:left;white-space:pre\">83.5</td></tr><tr><td style=\"text-align:left;white-space:pre\">AUT</td><td style=\"text-align:left;white-space:pre\">Austria</td><td style=\"text-align:left;white-space:pre\">96.4929</td><td style=\"text-align:left;white-space:pre\">26182</td><td style=\"text-align:left;white-space:pre\">77.7</td></tr><tr><td style=\"text-align:left;white-space:pre\">BEL</td><td style=\"text-align:left;white-space:pre\">Belgium</td><td style=\"text-align:left;white-space:pre\">335.5069</td><td style=\"text-align:left;white-space:pre\">24388</td><td style=\"text-align:left;white-space:pre\">77.8</td></tr><tr><td style=\"text-align:left;white-space:pre\">BGR</td><td style=\"text-align:left;white-space:pre\">Bulgaria</td><td style=\"text-align:left;white-space:pre\">73.7959</td><td style=\"text-align:left;white-space:pre\">1487</td><td style=\"text-align:left;white-space:pre\">70.9</td></tr><tr><td style=\"text-align:left;white-space:pre\">BIH</td><td style=\"text-align:left;white-space:pre\">Bosnia and Herzegovina</td><td style=\"text-align:left;white-space:pre\">77.5827</td><td style=\"text-align:left;white-space:pre\">715</td><td style=\"text-align:left;white-space:pre\">71.5</td></tr><tr><td style=\"text-align:left;white-space:pre\">BLR</td><td style=\"text-align:left;white-space:pre\">Belarus</td><td style=\"text-align:left;white-space:pre\">49.3064</td><td style=\"text-align:left;white-space:pre\">1340</td><td style=\"text-align:left;white-space:pre\">68.0</td></tr><tr><td style=\"text-align:left;white-space:pre\">CHE</td><td style=\"text-align:left;white-space:pre\">Switzerland</td><td style=\"text-align:left;white-space:pre\">173.4425</td><td style=\"text-align:left;white-space:pre\">36936</td><td style=\"text-align:left;white-space:pre\">79.6</td></tr><tr><td style=\"text-align:left;white-space:pre\">CZE</td><td style=\"text-align:left;white-space:pre\">Czech Republic</td><td style=\"text-align:left;white-space:pre\">130.3236</td><td style=\"text-align:left;white-space:pre\">5353</td><td style=\"text-align:left;white-space:pre\">74.5</td></tr><tr><td style=\"text-align:left;white-space:pre\">DEU</td><td style=\"text-align:left;white-space:pre\">Germany</td><td style=\"text-align:left;white-space:pre\">230.1390</td><td style=\"text-align:left;white-space:pre\">25965</td><td style=\"text-align:left;white-space:pre\">77.4</td></tr></table></body></html>"
      ]
     },
     "metadata": {},
     "output_type": "display_data"
    }
   ],
   "source": [
    "select Code, Name,\n",
    "       (Population/SurfaceArea) as 'Densidad',\n",
    "       round((GNP/Population)*1000000) as 'GNP per capita',\n",
    "       LifeExpectancy\n",
    "from country\n",
    "where Continent like 'Europe'\n",
    "limit 10;"
   ]
  },
  {
   "cell_type": "markdown",
   "id": "881476e9-d4c0-49b5-b003-2d031e62fc6a",
   "metadata": {},
   "source": [
    "<span style='font-family:Segoe UI'> **Países por continente**"
   ]
  },
  {
   "cell_type": "code",
   "execution_count": 18,
   "id": "e607f338-d697-4420-9112-3410353d7710",
   "metadata": {},
   "outputs": [
    {
     "data": {
      "text/html": [
       "<html><body><table border=\"1\"><tr><th style=\"text-align:left;white-space:pre\">Continent</th><th style=\"text-align:left;white-space:pre\">Cantidad de paises</th></tr><tr><td style=\"text-align:left;white-space:pre\">Asia</td><td style=\"text-align:left;white-space:pre\">51</td></tr><tr><td style=\"text-align:left;white-space:pre\">Europe</td><td style=\"text-align:left;white-space:pre\">46</td></tr><tr><td style=\"text-align:left;white-space:pre\">North America</td><td style=\"text-align:left;white-space:pre\">37</td></tr><tr><td style=\"text-align:left;white-space:pre\">Africa</td><td style=\"text-align:left;white-space:pre\">58</td></tr><tr><td style=\"text-align:left;white-space:pre\">Oceania</td><td style=\"text-align:left;white-space:pre\">28</td></tr><tr><td style=\"text-align:left;white-space:pre\">Antarctica</td><td style=\"text-align:left;white-space:pre\">5</td></tr><tr><td style=\"text-align:left;white-space:pre\">South America</td><td style=\"text-align:left;white-space:pre\">14</td></tr></table></body></html>"
      ]
     },
     "metadata": {},
     "output_type": "display_data"
    }
   ],
   "source": [
    "select Continent, count(*) as 'Cantidad de paises'\n",
    "from country\n",
    "group by Continent;"
   ]
  },
  {
   "cell_type": "markdown",
   "id": "bd1eed33-79bc-4ddd-b0f9-d55369140c61",
   "metadata": {},
   "source": [
    "<span style='font-family:Segoe UI'> **Ranking de países con mayor diversidad de idiomas**"
   ]
  },
  {
   "cell_type": "code",
   "execution_count": 20,
   "id": "14bf226e-dd88-494b-8abe-579f35ab60c5",
   "metadata": {},
   "outputs": [
    {
     "data": {
      "text/html": [
       "<html><body><table border=\"1\"><tr><th style=\"text-align:left;white-space:pre\">Name</th><th style=\"text-align:left;white-space:pre\">Número de idiomas</th></tr><tr><td style=\"text-align:left;white-space:pre\">United States</td><td style=\"text-align:left;white-space:pre\">12</td></tr><tr><td style=\"text-align:left;white-space:pre\">Russian Federation</td><td style=\"text-align:left;white-space:pre\">12</td></tr><tr><td style=\"text-align:left;white-space:pre\">India</td><td style=\"text-align:left;white-space:pre\">12</td></tr><tr><td style=\"text-align:left;white-space:pre\">China</td><td style=\"text-align:left;white-space:pre\">12</td></tr><tr><td style=\"text-align:left;white-space:pre\">Canada</td><td style=\"text-align:left;white-space:pre\">12</td></tr></table></body></html>"
      ]
     },
     "metadata": {},
     "output_type": "display_data"
    }
   ],
   "source": [
    "select Name, n as 'Número de idiomas'\n",
    "from country\n",
    "join \n",
    "(  select CountryCode as Code, count(*) as n\n",
    "   from countrylanguage\n",
    "   group by CountryCode\n",
    ") as t1 using(Code)\n",
    "order by n desc\n",
    "limit 5;"
   ]
  },
  {
   "cell_type": "markdown",
   "id": "c733bf29-d0d1-44f3-8d82-c2e95a6ff5c7",
   "metadata": {},
   "source": [
    "<span style='font-family:Segoe UI'> **Proporción de países con idioma oficial inglés**"
   ]
  },
  {
   "cell_type": "code",
   "execution_count": 23,
   "id": "9ea5f4f0-dfd7-4ddd-9fb1-aa14cd0345cc",
   "metadata": {},
   "outputs": [
    {
     "data": {
      "text/html": [
       "<html><body><table border=\"1\"><tr><th style=\"text-align:left;white-space:pre\">Percentage</th></tr><tr><td style=\"text-align:left;white-space:pre\">4.47 %</td></tr></table></body></html>"
      ]
     },
     "metadata": {},
     "output_type": "display_data"
    }
   ],
   "source": [
    "set @n_countries=(select count(*) from countrylanguage);\n",
    "select concat(round((n_spa/@n_countries)*100, 2), ' %') as Percentage\n",
    "from \n",
    "(\n",
    "    select count(*) as n_spa\n",
    "    from countrylanguage\n",
    "    where IsOfficial='T' and Language='English'\n",
    ") as t1\n",
    ";"
   ]
  },
  {
   "cell_type": "markdown",
   "id": "5d3827a6-2d5c-453e-9497-c14d3c059c92",
   "metadata": {},
   "source": [
    "<span style='font-family:Segoe UI'> **Proporción de población mundial que habla alemán**"
   ]
  },
  {
   "cell_type": "code",
   "execution_count": 33,
   "id": "4ed0449b-08b1-4805-a2a1-cf2f0e4a0520",
   "metadata": {},
   "outputs": [
    {
     "data": {
      "text/html": [
       "<html><body><table border=\"1\"><tr><th style=\"text-align:left;white-space:pre\">Percentage</th></tr><tr><td style=\"text-align:left;white-space:pre\">1.52 %</td></tr></table></body></html>"
      ]
     },
     "metadata": {},
     "output_type": "display_data"
    }
   ],
   "source": [
    "set @world_pop=(select sum(Population) from country);\n",
    "\n",
    "select concat(round(100*sum(spa_pop)/@world_pop, 2), ' %') as Percentage\n",
    "from\n",
    "(\n",
    "    select Code, (Population*Percentage/100) as spa_pop\n",
    "    from country\n",
    "    join\n",
    "    (\n",
    "        select CountryCode as Code, Percentage\n",
    "        from countrylanguage\n",
    "        where Language='German'\n",
    "    ) as t1 using(Code)\n",
    ") as t2 \n",
    ";"
   ]
  },
  {
   "cell_type": "markdown",
   "id": "4484a7d2-18ff-4286-b8c9-1e168fc274f0",
   "metadata": {},
   "source": [
    "## <span style='font-family:Segoe UI'> **1.2 Sakila database**\n",
    "    \n",
    "<span style='font-family:Segoe UI'> Contiene información de una empresa de alquiler de pelícualas en DVD, presenta 16 tablas con datos relacionados a películas, transacciones, empleados, clientes, inventario y tiendas. \n",
    "\n"
   ]
  },
  {
   "cell_type": "code",
   "execution_count": 1,
   "id": "4db8df91-93e3-432a-9ff9-65a08752a277",
   "metadata": {},
   "outputs": [
    {
     "data": {
      "text/html": [
       "Query OK"
      ]
     },
     "metadata": {},
     "output_type": "display_data"
    }
   ],
   "source": [
    "source /home/bibianaq/Documentos/Bigdata/sakila-db/sakila-schema.sql;"
   ]
  },
  {
   "cell_type": "code",
   "execution_count": 2,
   "id": "1bcb8031-c28b-4f19-a293-7935138ea25f",
   "metadata": {},
   "outputs": [
    {
     "data": {
      "text/html": [
       "Query OK"
      ]
     },
     "metadata": {},
     "output_type": "display_data"
    }
   ],
   "source": [
    "source /home/bibianaq/Documentos/Bigdata/sakila-db/sakila-data.sql;"
   ]
  },
  {
   "cell_type": "code",
   "execution_count": 3,
   "id": "5c774979-b40b-40ec-93d4-76d3bd8f7490",
   "metadata": {},
   "outputs": [
    {
     "data": {
      "text/html": [
       "Query OK"
      ]
     },
     "metadata": {},
     "output_type": "display_data"
    }
   ],
   "source": [
    "use sakila;"
   ]
  },
  {
   "cell_type": "code",
   "execution_count": 35,
   "id": "ebdb59cf-95e9-4bc7-b9ec-6a753b9c3f60",
   "metadata": {},
   "outputs": [
    {
     "data": {
      "text/html": [
       "<html><body><table border=\"1\"><tr><th style=\"text-align:left;white-space:pre\">Tables_in_sakila</th></tr><tr><td style=\"text-align:left;white-space:pre\">actor</td></tr><tr><td style=\"text-align:left;white-space:pre\">actor_info</td></tr><tr><td style=\"text-align:left;white-space:pre\">address</td></tr><tr><td style=\"text-align:left;white-space:pre\">category</td></tr><tr><td style=\"text-align:left;white-space:pre\">city</td></tr><tr><td style=\"text-align:left;white-space:pre\">country</td></tr><tr><td style=\"text-align:left;white-space:pre\">customer</td></tr><tr><td style=\"text-align:left;white-space:pre\">customer_list</td></tr><tr><td style=\"text-align:left;white-space:pre\">film</td></tr><tr><td style=\"text-align:left;white-space:pre\">film_actor</td></tr><tr><td style=\"text-align:left;white-space:pre\">film_category</td></tr><tr><td style=\"text-align:left;white-space:pre\">film_list</td></tr><tr><td style=\"text-align:left;white-space:pre\">film_text</td></tr><tr><td style=\"text-align:left;white-space:pre\">inventory</td></tr><tr><td style=\"text-align:left;white-space:pre\">language</td></tr><tr><td style=\"text-align:left;white-space:pre\">nicer_but_slower_film_list</td></tr><tr><td style=\"text-align:left;white-space:pre\">payment</td></tr><tr><td style=\"text-align:left;white-space:pre\">rental</td></tr><tr><td style=\"text-align:left;white-space:pre\">sales_by_film_category</td></tr><tr><td style=\"text-align:left;white-space:pre\">sales_by_store</td></tr><tr><td style=\"text-align:left;white-space:pre\">staff</td></tr><tr><td style=\"text-align:left;white-space:pre\">staff_list</td></tr><tr><td style=\"text-align:left;white-space:pre\">store</td></tr></table></body></html>"
      ]
     },
     "metadata": {},
     "output_type": "display_data"
    }
   ],
   "source": [
    "show tables;"
   ]
  },
  {
   "cell_type": "code",
   "execution_count": 36,
   "id": "01a56d9c-b755-4809-8472-b8276a26e1eb",
   "metadata": {},
   "outputs": [
    {
     "data": {
      "text/html": [
       "<html><body><table border=\"1\"><tr><th style=\"text-align:left;white-space:pre\">Field</th><th style=\"text-align:left;white-space:pre\">Type</th><th style=\"text-align:left;white-space:pre\">Null</th><th style=\"text-align:left;white-space:pre\">Key</th><th style=\"text-align:left;white-space:pre\">Default</th><th style=\"text-align:left;white-space:pre\">Extra</th></tr><tr><td style=\"text-align:left;white-space:pre\">store_id</td><td style=\"text-align:left;white-space:pre\">tinyint(3) unsigned</td><td style=\"text-align:left;white-space:pre\">NO</td><td style=\"text-align:left;white-space:pre\">PRI</td><td style=\"text-align:left;white-space:pre\">NULL</td><td style=\"text-align:left;white-space:pre\">auto_increment</td></tr><tr><td style=\"text-align:left;white-space:pre\">manager_staff_id</td><td style=\"text-align:left;white-space:pre\">tinyint(3) unsigned</td><td style=\"text-align:left;white-space:pre\">NO</td><td style=\"text-align:left;white-space:pre\">UNI</td><td style=\"text-align:left;white-space:pre\">NULL</td><td style=\"text-align:left;white-space:pre\"></td></tr><tr><td style=\"text-align:left;white-space:pre\">address_id</td><td style=\"text-align:left;white-space:pre\">smallint(5) unsigned</td><td style=\"text-align:left;white-space:pre\">NO</td><td style=\"text-align:left;white-space:pre\">MUL</td><td style=\"text-align:left;white-space:pre\">NULL</td><td style=\"text-align:left;white-space:pre\"></td></tr><tr><td style=\"text-align:left;white-space:pre\">last_update</td><td style=\"text-align:left;white-space:pre\">timestamp</td><td style=\"text-align:left;white-space:pre\">NO</td><td style=\"text-align:left;white-space:pre\"></td><td style=\"text-align:left;white-space:pre\">current_timestamp()</td><td style=\"text-align:left;white-space:pre\">on update current_timestamp()</td></tr></table></body></html>"
      ]
     },
     "metadata": {},
     "output_type": "display_data"
    }
   ],
   "source": [
    "describe store;"
   ]
  },
  {
   "cell_type": "code",
   "execution_count": 37,
   "id": "1f34417e-cfc6-4fae-811e-39d74ac74a73",
   "metadata": {},
   "outputs": [
    {
     "data": {
      "text/html": [
       "<html><body><table border=\"1\"><tr><th style=\"text-align:left;white-space:pre\">Field</th><th style=\"text-align:left;white-space:pre\">Type</th><th style=\"text-align:left;white-space:pre\">Null</th><th style=\"text-align:left;white-space:pre\">Key</th><th style=\"text-align:left;white-space:pre\">Default</th><th style=\"text-align:left;white-space:pre\">Extra</th></tr><tr><td style=\"text-align:left;white-space:pre\">language_id</td><td style=\"text-align:left;white-space:pre\">tinyint(3) unsigned</td><td style=\"text-align:left;white-space:pre\">NO</td><td style=\"text-align:left;white-space:pre\">PRI</td><td style=\"text-align:left;white-space:pre\">NULL</td><td style=\"text-align:left;white-space:pre\">auto_increment</td></tr><tr><td style=\"text-align:left;white-space:pre\">name</td><td style=\"text-align:left;white-space:pre\">char(20)</td><td style=\"text-align:left;white-space:pre\">NO</td><td style=\"text-align:left;white-space:pre\"></td><td style=\"text-align:left;white-space:pre\">NULL</td><td style=\"text-align:left;white-space:pre\"></td></tr><tr><td style=\"text-align:left;white-space:pre\">last_update</td><td style=\"text-align:left;white-space:pre\">timestamp</td><td style=\"text-align:left;white-space:pre\">NO</td><td style=\"text-align:left;white-space:pre\"></td><td style=\"text-align:left;white-space:pre\">current_timestamp()</td><td style=\"text-align:left;white-space:pre\">on update current_timestamp()</td></tr></table></body></html>"
      ]
     },
     "metadata": {},
     "output_type": "display_data"
    }
   ],
   "source": [
    "describe language;"
   ]
  },
  {
   "cell_type": "markdown",
   "id": "a5982d73-5631-4278-857e-3f369727ef3c",
   "metadata": {},
   "source": [
    "## <span style='font-family:Segoe UI'> **Consultas SQL**\n",
    "\n",
    "<span style='font-family:Segoe UI'> **Géneros con mayor cantidad de películas**"
   ]
  },
  {
   "cell_type": "code",
   "execution_count": 38,
   "id": "0bba8c82-918c-4717-8439-df0589217067",
   "metadata": {},
   "outputs": [
    {
     "data": {
      "text/html": [
       "<html><body><table border=\"1\"><tr><th style=\"text-align:left;white-space:pre\">Género</th><th style=\"text-align:left;white-space:pre\">Número de películas</th></tr><tr><td style=\"text-align:left;white-space:pre\">Sports</td><td style=\"text-align:left;white-space:pre\">74</td></tr><tr><td style=\"text-align:left;white-space:pre\">Foreign</td><td style=\"text-align:left;white-space:pre\">73</td></tr><tr><td style=\"text-align:left;white-space:pre\">Family</td><td style=\"text-align:left;white-space:pre\">69</td></tr><tr><td style=\"text-align:left;white-space:pre\">Documentary</td><td style=\"text-align:left;white-space:pre\">68</td></tr><tr><td style=\"text-align:left;white-space:pre\">Animation</td><td style=\"text-align:left;white-space:pre\">66</td></tr></table></body></html>"
      ]
     },
     "metadata": {},
     "output_type": "display_data"
    }
   ],
   "source": [
    "select *\n",
    "from (\n",
    "    select c.name as 'Género', count(*) as 'Número de películas'\n",
    "    from film_category\n",
    "    join category c using(category_id)\n",
    "    group by c.name\n",
    ") as t\n",
    "order by `Número de películas` desc\n",
    "limit 5\n",
    ";"
   ]
  },
  {
   "cell_type": "markdown",
   "id": "562f1485-79f2-4612-91a5-82e2cbdf65bb",
   "metadata": {},
   "source": [
    "<span style='font-family:Segoe UI'> **Géneros de películas más vendidos**"
   ]
  },
  {
   "cell_type": "code",
   "execution_count": 39,
   "id": "d0256f99-a23e-41ba-83bd-7af357c2337d",
   "metadata": {},
   "outputs": [
    {
     "data": {
      "text/html": [
       "<html><body><table border=\"1\"><tr><th style=\"text-align:left;white-space:pre\">Género</th><th style=\"text-align:left;white-space:pre\">Ventas</th></tr><tr><td style=\"text-align:left;white-space:pre\">Sports</td><td style=\"text-align:left;white-space:pre\">5314.21</td></tr><tr><td style=\"text-align:left;white-space:pre\">Sci-Fi</td><td style=\"text-align:left;white-space:pre\">4756.98</td></tr><tr><td style=\"text-align:left;white-space:pre\">Animation</td><td style=\"text-align:left;white-space:pre\">4656.30</td></tr><tr><td style=\"text-align:left;white-space:pre\">Drama</td><td style=\"text-align:left;white-space:pre\">4587.39</td></tr><tr><td style=\"text-align:left;white-space:pre\">Comedy</td><td style=\"text-align:left;white-space:pre\">4383.58</td></tr></table></body></html>"
      ]
     },
     "metadata": {},
     "output_type": "display_data"
    }
   ],
   "source": [
    "select c.name as 'Género', sum(p.amount) as 'Ventas'\n",
    "from payment p \n",
    "join rental r using(rental_id)\n",
    "join inventory i using(inventory_id)\n",
    "join film_category f using(film_id)\n",
    "join category c using(category_id)\n",
    "group by c.name\n",
    "order by Ventas desc\n",
    "limit 5;"
   ]
  },
  {
   "cell_type": "markdown",
   "id": "29dcaa58-6722-464f-8465-5c0415f41dfc",
   "metadata": {},
   "source": [
    "<span style='font-family:Segoe UI'> **Actores y actrices con más actuaciones**"
   ]
  },
  {
   "cell_type": "code",
   "execution_count": 42,
   "id": "15470b07-7369-4fdb-bf1a-c387fed89495",
   "metadata": {},
   "outputs": [
    {
     "data": {
      "text/html": [
       "<html><body><table border=\"1\"><tr><th style=\"text-align:left;white-space:pre\">Actor/Actriz</th><th style=\"text-align:left;white-space:pre\">Actuaciones en películas</th></tr><tr><td style=\"text-align:left;white-space:pre\">GINA DEGENERES</td><td style=\"text-align:left;white-space:pre\">42</td></tr><tr><td style=\"text-align:left;white-space:pre\">WALTER TORN</td><td style=\"text-align:left;white-space:pre\">41</td></tr><tr><td style=\"text-align:left;white-space:pre\">MARY KEITEL</td><td style=\"text-align:left;white-space:pre\">40</td></tr><tr><td style=\"text-align:left;white-space:pre\">MATTHEW CARREY</td><td style=\"text-align:left;white-space:pre\">39</td></tr><tr><td style=\"text-align:left;white-space:pre\">SANDRA KILMER</td><td style=\"text-align:left;white-space:pre\">37</td></tr></table></body></html>"
      ]
     },
     "metadata": {},
     "output_type": "display_data"
    }
   ],
   "source": [
    "select concat(first_name, ' ', last_name) as 'Actor/Actriz',\n",
    "       n as 'Actuaciones en películas'\n",
    "from actor\n",
    "join\n",
    "(\n",
    "    select actor_id, count(film_id) as n from film_actor group by actor_id\n",
    ") as t1 using(actor_id)\n",
    "order by n desc\n",
    "limit 5\n",
    ";"
   ]
  },
  {
   "cell_type": "markdown",
   "id": "296e8e54-3925-48fe-ad9f-dba65d4ee49d",
   "metadata": {},
   "source": [
    "<span style='font-family:Segoe UI'> **Género de las películas en el que han participado los actores y actrices con mayores actuaciones**"
   ]
  },
  {
   "cell_type": "code",
   "execution_count": 43,
   "id": "426b84ed-6c7e-40a8-944c-eb7fc7856e6c",
   "metadata": {},
   "outputs": [
    {
     "data": {
      "text/html": [
       "<html><body><table border=\"1\"><tr><th style=\"text-align:left;white-space:pre\">Actor/Actriz</th><th style=\"text-align:left;white-space:pre\">Género</th><th style=\"text-align:left;white-space:pre\">Participación</th></tr><tr><td style=\"text-align:left;white-space:pre\">GINA DEGENERES</td><td style=\"text-align:left;white-space:pre\">Action</td><td style=\"text-align:left;white-space:pre\">16.67 %</td></tr><tr><td style=\"text-align:left;white-space:pre\">WALTER TORN</td><td style=\"text-align:left;white-space:pre\">Action</td><td style=\"text-align:left;white-space:pre\">12.20 %</td></tr><tr><td style=\"text-align:left;white-space:pre\">MARY KEITEL</td><td style=\"text-align:left;white-space:pre\">Action</td><td style=\"text-align:left;white-space:pre\">10.00 %</td></tr><tr><td style=\"text-align:left;white-space:pre\">MATTHEW CARREY</td><td style=\"text-align:left;white-space:pre\">Action</td><td style=\"text-align:left;white-space:pre\">12.82 %</td></tr><tr><td style=\"text-align:left;white-space:pre\">SANDRA KILMER</td><td style=\"text-align:left;white-space:pre\">Action</td><td style=\"text-align:left;white-space:pre\">10.81 %</td></tr></table></body></html>"
      ]
     },
     "metadata": {},
     "output_type": "display_data"
    }
   ],
   "source": [
    "with top as (\n",
    "    select actor_id, count(film_id) as n from film_actor group by actor_id order by n desc limit 5\n",
    "), top_actor_film as (\n",
    "    select actor_id, film_id\n",
    "    from film_actor\n",
    "    join top using(actor_id)\n",
    "), top_actor_cat_film as (\n",
    "    select ta.actor_id, ta.film_id, c.name\n",
    "    from top_actor_film ta\n",
    "    join film_category using(film_id) join category c using(category_id)\n",
    "), result as (\n",
    "    select actor_id, name, max(n) as appearances\n",
    "    from (\n",
    "        select actor_id, name, count(*) as n from top_actor_cat_film group by actor_id, name\n",
    "    ) as t\n",
    "    group by actor_id\n",
    ")\n",
    "\n",
    "select concat(a.first_name, ' ', a.last_name) as 'Actor/Actriz',\n",
    "       r.name as 'Género',\n",
    "       concat(round((r.appearances/top.n)*100, 2), ' %') as 'Participación'\n",
    "from result r\n",
    "join top using(actor_id)\n",
    "join actor a using(actor_id)\n",
    ";"
   ]
  },
  {
   "cell_type": "markdown",
   "id": "615efffb-d880-40ab-a296-308f85ae9e99",
   "metadata": {},
   "source": [
    "## <span style='font-family:Segoe UI'> **1.3 Employees database**\n",
    "    \n",
    "<span style='font-family:Segoe UI'> Esta base de datos contiene 8 tablas con información de departamentos donde trabajan empleados, empleados, salarios y cargos relacionados.\n"
   ]
  },
  {
   "cell_type": "code",
   "execution_count": 2,
   "id": "f4ad8224-bd30-4704-a0f7-c0f9ddc12454",
   "metadata": {},
   "outputs": [
    {
     "data": {
      "text/html": [
       "Query OK"
      ]
     },
     "metadata": {},
     "output_type": "display_data"
    }
   ],
   "source": [
    "source /home/bibianaq/Documentos/Bigdata/test_db-master/employees.sql;"
   ]
  },
  {
   "cell_type": "code",
   "execution_count": 3,
   "id": "2a89ec83-cee1-4fe0-aa6c-0d1eef42201a",
   "metadata": {},
   "outputs": [
    {
     "data": {
      "text/html": [
       "Query OK"
      ]
     },
     "metadata": {},
     "output_type": "display_data"
    }
   ],
   "source": [
    "use employees;"
   ]
  },
  {
   "cell_type": "code",
   "execution_count": 64,
   "id": "a091a834-5e61-4d62-83d8-01dd84918a7c",
   "metadata": {},
   "outputs": [
    {
     "data": {
      "text/html": [
       "<html><body><table border=\"1\"><tr><th style=\"text-align:left;white-space:pre\">Tables_in_employees</th></tr><tr><td style=\"text-align:left;white-space:pre\">current_dept_emp</td></tr><tr><td style=\"text-align:left;white-space:pre\">departments</td></tr><tr><td style=\"text-align:left;white-space:pre\">dept_emp</td></tr><tr><td style=\"text-align:left;white-space:pre\">dept_emp_latest_date</td></tr><tr><td style=\"text-align:left;white-space:pre\">dept_manager</td></tr><tr><td style=\"text-align:left;white-space:pre\">employees</td></tr><tr><td style=\"text-align:left;white-space:pre\">salaries</td></tr><tr><td style=\"text-align:left;white-space:pre\">titles</td></tr></table></body></html>"
      ]
     },
     "metadata": {},
     "output_type": "display_data"
    }
   ],
   "source": [
    "show tables;"
   ]
  },
  {
   "cell_type": "code",
   "execution_count": 56,
   "id": "b5ea51f7-8eb8-4159-b4a4-14c9647a372a",
   "metadata": {},
   "outputs": [
    {
     "data": {
      "text/html": [
       "<html><body><table border=\"1\"><tr><th style=\"text-align:left;white-space:pre\">Field</th><th style=\"text-align:left;white-space:pre\">Type</th><th style=\"text-align:left;white-space:pre\">Null</th><th style=\"text-align:left;white-space:pre\">Key</th><th style=\"text-align:left;white-space:pre\">Default</th><th style=\"text-align:left;white-space:pre\">Extra</th></tr><tr><td style=\"text-align:left;white-space:pre\">emp_no</td><td style=\"text-align:left;white-space:pre\">int(11)</td><td style=\"text-align:left;white-space:pre\">NO</td><td style=\"text-align:left;white-space:pre\">PRI</td><td style=\"text-align:left;white-space:pre\">NULL</td><td style=\"text-align:left;white-space:pre\"></td></tr><tr><td style=\"text-align:left;white-space:pre\">birth_date</td><td style=\"text-align:left;white-space:pre\">date</td><td style=\"text-align:left;white-space:pre\">NO</td><td style=\"text-align:left;white-space:pre\"></td><td style=\"text-align:left;white-space:pre\">NULL</td><td style=\"text-align:left;white-space:pre\"></td></tr><tr><td style=\"text-align:left;white-space:pre\">first_name</td><td style=\"text-align:left;white-space:pre\">varchar(14)</td><td style=\"text-align:left;white-space:pre\">NO</td><td style=\"text-align:left;white-space:pre\"></td><td style=\"text-align:left;white-space:pre\">NULL</td><td style=\"text-align:left;white-space:pre\"></td></tr><tr><td style=\"text-align:left;white-space:pre\">last_name</td><td style=\"text-align:left;white-space:pre\">varchar(16)</td><td style=\"text-align:left;white-space:pre\">NO</td><td style=\"text-align:left;white-space:pre\"></td><td style=\"text-align:left;white-space:pre\">NULL</td><td style=\"text-align:left;white-space:pre\"></td></tr><tr><td style=\"text-align:left;white-space:pre\">gender</td><td style=\"text-align:left;white-space:pre\">enum('M','F')</td><td style=\"text-align:left;white-space:pre\">NO</td><td style=\"text-align:left;white-space:pre\"></td><td style=\"text-align:left;white-space:pre\">NULL</td><td style=\"text-align:left;white-space:pre\"></td></tr><tr><td style=\"text-align:left;white-space:pre\">hire_date</td><td style=\"text-align:left;white-space:pre\">date</td><td style=\"text-align:left;white-space:pre\">NO</td><td style=\"text-align:left;white-space:pre\"></td><td style=\"text-align:left;white-space:pre\">NULL</td><td style=\"text-align:left;white-space:pre\"></td></tr></table></body></html>"
      ]
     },
     "metadata": {},
     "output_type": "display_data"
    }
   ],
   "source": [
    "describe employees;"
   ]
  },
  {
   "cell_type": "markdown",
   "id": "6c85a6bc-9b1c-45f2-a5df-d8e27d8c382c",
   "metadata": {},
   "source": [
    "## <span style='font-family:Segoe UI'> **Consultas SQL**\n",
    "\n",
    "<span style='font-family:Segoe UI'> **10 registros de empleados**\n"
   ]
  },
  {
   "cell_type": "code",
   "execution_count": 72,
   "id": "3d420f2c-d20b-4ddb-8f2a-3d1c19439823",
   "metadata": {},
   "outputs": [
    {
     "data": {
      "text/html": [
       "<html><body><table border=\"1\"><tr><th style=\"text-align:left;white-space:pre\">emp_no</th><th style=\"text-align:left;white-space:pre\">birth_date</th><th style=\"text-align:left;white-space:pre\">first_name</th><th style=\"text-align:left;white-space:pre\">last_name</th><th style=\"text-align:left;white-space:pre\">gender</th><th style=\"text-align:left;white-space:pre\">hire_date</th></tr><tr><td style=\"text-align:left;white-space:pre\">10001</td><td style=\"text-align:left;white-space:pre\">1953-09-02</td><td style=\"text-align:left;white-space:pre\">Georgi</td><td style=\"text-align:left;white-space:pre\">Facello</td><td style=\"text-align:left;white-space:pre\">M</td><td style=\"text-align:left;white-space:pre\">1986-06-26</td></tr><tr><td style=\"text-align:left;white-space:pre\">10002</td><td style=\"text-align:left;white-space:pre\">1964-06-02</td><td style=\"text-align:left;white-space:pre\">Bezalel</td><td style=\"text-align:left;white-space:pre\">Simmel</td><td style=\"text-align:left;white-space:pre\">F</td><td style=\"text-align:left;white-space:pre\">1985-11-21</td></tr><tr><td style=\"text-align:left;white-space:pre\">10003</td><td style=\"text-align:left;white-space:pre\">1959-12-03</td><td style=\"text-align:left;white-space:pre\">Parto</td><td style=\"text-align:left;white-space:pre\">Bamford</td><td style=\"text-align:left;white-space:pre\">M</td><td style=\"text-align:left;white-space:pre\">1986-08-28</td></tr><tr><td style=\"text-align:left;white-space:pre\">10004</td><td style=\"text-align:left;white-space:pre\">1954-05-01</td><td style=\"text-align:left;white-space:pre\">Chirstian</td><td style=\"text-align:left;white-space:pre\">Koblick</td><td style=\"text-align:left;white-space:pre\">M</td><td style=\"text-align:left;white-space:pre\">1986-12-01</td></tr><tr><td style=\"text-align:left;white-space:pre\">10005</td><td style=\"text-align:left;white-space:pre\">1955-01-21</td><td style=\"text-align:left;white-space:pre\">Kyoichi</td><td style=\"text-align:left;white-space:pre\">Maliniak</td><td style=\"text-align:left;white-space:pre\">M</td><td style=\"text-align:left;white-space:pre\">1989-09-12</td></tr><tr><td style=\"text-align:left;white-space:pre\">10006</td><td style=\"text-align:left;white-space:pre\">1953-04-20</td><td style=\"text-align:left;white-space:pre\">Anneke</td><td style=\"text-align:left;white-space:pre\">Preusig</td><td style=\"text-align:left;white-space:pre\">F</td><td style=\"text-align:left;white-space:pre\">1989-06-02</td></tr><tr><td style=\"text-align:left;white-space:pre\">10007</td><td style=\"text-align:left;white-space:pre\">1957-05-23</td><td style=\"text-align:left;white-space:pre\">Tzvetan</td><td style=\"text-align:left;white-space:pre\">Zielinski</td><td style=\"text-align:left;white-space:pre\">F</td><td style=\"text-align:left;white-space:pre\">1989-02-10</td></tr><tr><td style=\"text-align:left;white-space:pre\">10008</td><td style=\"text-align:left;white-space:pre\">1958-02-19</td><td style=\"text-align:left;white-space:pre\">Saniya</td><td style=\"text-align:left;white-space:pre\">Kalloufi</td><td style=\"text-align:left;white-space:pre\">M</td><td style=\"text-align:left;white-space:pre\">1994-09-15</td></tr><tr><td style=\"text-align:left;white-space:pre\">10009</td><td style=\"text-align:left;white-space:pre\">1952-04-19</td><td style=\"text-align:left;white-space:pre\">Sumant</td><td style=\"text-align:left;white-space:pre\">Peac</td><td style=\"text-align:left;white-space:pre\">F</td><td style=\"text-align:left;white-space:pre\">1985-02-18</td></tr><tr><td style=\"text-align:left;white-space:pre\">10010</td><td style=\"text-align:left;white-space:pre\">1963-06-01</td><td style=\"text-align:left;white-space:pre\">Duangkaew</td><td style=\"text-align:left;white-space:pre\">Piveteau</td><td style=\"text-align:left;white-space:pre\">F</td><td style=\"text-align:left;white-space:pre\">1989-08-24</td></tr></table></body></html>"
      ]
     },
     "metadata": {},
     "output_type": "display_data"
    }
   ],
   "source": [
    "select * from employees limit 10;"
   ]
  },
  {
   "cell_type": "markdown",
   "id": "e4d6aca7-4266-458a-a8c2-6b626c290f30",
   "metadata": {},
   "source": [
    "<span style='font-family:Segoe UI'> **Cantidad de hombres y mujeres**"
   ]
  },
  {
   "cell_type": "code",
   "execution_count": 76,
   "id": "f6637d52-68e9-496e-8f8e-7e960d161d88",
   "metadata": {},
   "outputs": [
    {
     "data": {
      "text/html": [
       "<html><body><table border=\"1\"><tr><th style=\"text-align:left;white-space:pre\">Empleados</th><th style=\"text-align:left;white-space:pre\">Número</th></tr><tr><td style=\"text-align:left;white-space:pre\">Hombres</td><td style=\"text-align:left;white-space:pre\">179973</td></tr><tr><td style=\"text-align:left;white-space:pre\">Mujeres</td><td style=\"text-align:left;white-space:pre\">120051</td></tr></table></body></html>"
      ]
     },
     "metadata": {},
     "output_type": "display_data"
    }
   ],
   "source": [
    "select if(gender like 'M', 'Hombres', 'Mujeres') as 'Empleados',\n",
    "       count(*) as 'Número'\n",
    "from employees\n",
    "group by gender;"
   ]
  },
  {
   "cell_type": "markdown",
   "id": "4ed77431-5370-4073-a021-c367924b4e30",
   "metadata": {},
   "source": [
    "<span style='font-family:Segoe UI'> **Cargos existentes en la empresa**"
   ]
  },
  {
   "cell_type": "code",
   "execution_count": 80,
   "id": "c029ead1-69ad-4247-b70f-77cda5d1e74b",
   "metadata": {},
   "outputs": [
    {
     "data": {
      "text/html": [
       "<html><body><table border=\"1\"><tr><th style=\"text-align:left;white-space:pre\">Cargo</th></tr><tr><td style=\"text-align:left;white-space:pre\">Senior Engineer</td></tr><tr><td style=\"text-align:left;white-space:pre\">Staff</td></tr><tr><td style=\"text-align:left;white-space:pre\">Engineer</td></tr><tr><td style=\"text-align:left;white-space:pre\">Senior Staff</td></tr><tr><td style=\"text-align:left;white-space:pre\">Assistant Engineer</td></tr><tr><td style=\"text-align:left;white-space:pre\">Technique Leader</td></tr><tr><td style=\"text-align:left;white-space:pre\">Manager</td></tr></table></body></html>"
      ]
     },
     "metadata": {},
     "output_type": "display_data"
    }
   ],
   "source": [
    "select distinct title as 'Cargo' from titles;"
   ]
  },
  {
   "cell_type": "markdown",
   "id": "27991a39-9c54-40af-b1e0-6ccb68ccd733",
   "metadata": {},
   "source": [
    "<span style='font-family:Segoe UI'> **Salario promedio por cargo**"
   ]
  },
  {
   "cell_type": "code",
   "execution_count": 83,
   "id": "a671f56e-5994-4492-a847-565baae8ae55",
   "metadata": {},
   "outputs": [
    {
     "data": {
      "text/html": [
       "<html><body><table border=\"1\"><tr><th style=\"text-align:left;white-space:pre\">Cargo</th><th style=\"text-align:left;white-space:pre\">Salario promedio</th></tr><tr><td style=\"text-align:left;white-space:pre\">Technique Leader</td><td style=\"text-align:left;white-space:pre\">59294.3742</td></tr><tr><td style=\"text-align:left;white-space:pre\">Assistant Engineer</td><td style=\"text-align:left;white-space:pre\">59304.9863</td></tr><tr><td style=\"text-align:left;white-space:pre\">Engineer</td><td style=\"text-align:left;white-space:pre\">59508.0397</td></tr><tr><td style=\"text-align:left;white-space:pre\">Senior Engineer</td><td style=\"text-align:left;white-space:pre\">60543.2191</td></tr><tr><td style=\"text-align:left;white-space:pre\">Manager</td><td style=\"text-align:left;white-space:pre\">66924.2706</td></tr><tr><td style=\"text-align:left;white-space:pre\">Staff</td><td style=\"text-align:left;white-space:pre\">69309.1023</td></tr><tr><td style=\"text-align:left;white-space:pre\">Senior Staff</td><td style=\"text-align:left;white-space:pre\">70470.8353</td></tr></table></body></html>"
      ]
     },
     "metadata": {},
     "output_type": "display_data"
    }
   ],
   "source": [
    "select Cargo, `Salario promedio`\n",
    "from \n",
    "(  select title as 'Cargo',\n",
    "          avg(salary) as 'Salario promedio'\n",
    "   from employees\n",
    "   join titles using(emp_no)\n",
    "   join salaries using(emp_no)\n",
    "   group by title\n",
    ") as t1\n",
    "order by `Salario promedio`;"
   ]
  },
  {
   "cell_type": "markdown",
   "id": "ad76b1c2-1b0e-4fc4-a79f-733ec15739b8",
   "metadata": {},
   "source": [
    "<span style='font-family:Segoe UI'> **Salario promedio hombres y mujeres**"
   ]
  },
  {
   "cell_type": "code",
   "execution_count": 85,
   "id": "86546f23-15b5-46d6-a1ed-d374781cbcfc",
   "metadata": {},
   "outputs": [
    {
     "data": {
      "text/html": [
       "<html><body><table border=\"1\"><tr><th style=\"text-align:left;white-space:pre\">Sexo</th><th style=\"text-align:left;white-space:pre\">Salario</th></tr><tr><td style=\"text-align:left;white-space:pre\">Masculino</td><td style=\"text-align:left;white-space:pre\">63838.1769</td></tr><tr><td style=\"text-align:left;white-space:pre\">Femenino</td><td style=\"text-align:left;white-space:pre\">63769.6032</td></tr></table></body></html>"
      ]
     },
     "metadata": {},
     "output_type": "display_data"
    }
   ],
   "source": [
    "select if(gender like 'M', 'Masculino', 'Femenino') as 'Sexo',\n",
    "       avg(salary) as 'Salario'\n",
    "from employees\n",
    "join salaries using(emp_no)\n",
    "group by gender;"
   ]
  },
  {
   "cell_type": "markdown",
   "id": "4ef163cb-4ca7-4726-9324-ebf7d732463a",
   "metadata": {},
   "source": [
    "## <span style='font-family:Segoe UI'> **2. Procedimientos, Triggers y Funciones**\n",
    "\n",
    "<span style='font-family:Segoe UI'> Las bases de datos  que almacenan procedimientos y funciones son **employees** y **sakila**; sin embargo **sakila** contiene ejemplos de triggers.\n",
    "    \n",
    "## <span style='font-family:Segoe UI'> **2.1 Procedimientos**"
   ]
  },
  {
   "cell_type": "code",
   "execution_count": null,
   "id": "e2628c95-9b86-4f6c-aabc-6c27ab5c2b24",
   "metadata": {},
   "outputs": [],
   "source": [
    "use employees;"
   ]
  },
  {
   "cell_type": "code",
   "execution_count": 4,
   "id": "ce209a82-5fa6-4e87-bfbd-b6e34d0f4c27",
   "metadata": {},
   "outputs": [
    {
     "data": {
      "text/html": [
       "Query OK"
      ]
     },
     "metadata": {},
     "output_type": "display_data"
    }
   ],
   "source": [
    "delimiter //\n",
    "\n",
    "create procedure show_departments()\n",
    "modifies sql data\n",
    "begin\n",
    "    DROP TABLE IF EXISTS department_max_date;\n",
    "    DROP TABLE IF EXISTS department_people;\n",
    "    CREATE TEMPORARY TABLE department_max_date\n",
    "    (\n",
    "        emp_no int not null primary key,\n",
    "        dept_from_date date not null,\n",
    "        dept_to_date  date not null, # bug#320513\n",
    "        KEY (dept_from_date, dept_to_date)\n",
    "    );\n",
    "    INSERT INTO department_max_date\n",
    "    SELECT\n",
    "        emp_no, max(from_date), max(to_date)\n",
    "    FROM\n",
    "        dept_emp\n",
    "    GROUP BY\n",
    "        emp_no;\n",
    "\n",
    "    CREATE TEMPORARY TABLE department_people\n",
    "    (\n",
    "        emp_no int not null,\n",
    "        dept_no char(4) not null,\n",
    "        primary key (emp_no, dept_no)\n",
    "    );\n",
    "\n",
    "    insert into department_people\n",
    "    select dmd.emp_no, dept_no\n",
    "    from\n",
    "        department_max_date dmd\n",
    "        inner join dept_emp de\n",
    "            on dmd.dept_from_date=de.from_date\n",
    "            and dmd.dept_to_date=de.to_date\n",
    "            and dmd.emp_no=de.emp_no;\n",
    "    SELECT\n",
    "        dept_no,dept_name,manager, count(*)\n",
    "        from v_full_departments\n",
    "            inner join department_people using (dept_no)\n",
    "        group by dept_no;\n",
    "        # with rollup;\n",
    "    DROP TABLE department_max_date;\n",
    "    DROP TABLE department_people;\n",
    "end //\n",
    "\n",
    "delimiter ;"
   ]
  },
  {
   "cell_type": "code",
   "execution_count": null,
   "id": "270dfc58-94ed-45fb-9000-39e6bca89c60",
   "metadata": {},
   "outputs": [],
   "source": [
    "use sakila;"
   ]
  },
  {
   "cell_type": "code",
   "execution_count": 17,
   "id": "bb6d3992-5f35-49fc-bb6c-7ce069ee6c61",
   "metadata": {},
   "outputs": [
    {
     "data": {
      "text/html": [
       "Query OK"
      ]
     },
     "metadata": {},
     "output_type": "display_data"
    }
   ],
   "source": [
    "DELIMITER $$\n",
    "\n",
    "CREATE PROCEDURE film_in_stock(IN p_film_id INT, IN p_store_id INT, OUT p_film_count INT)\n",
    "READS SQL DATA\n",
    "BEGIN\n",
    "     SELECT inventory_id\n",
    "     FROM inventory\n",
    "     WHERE film_id = p_film_id\n",
    "     AND store_id = p_store_id\n",
    "     AND inventory_in_stock(inventory_id);\n",
    "\n",
    "     SELECT COUNT(*)\n",
    "     FROM inventory\n",
    "     WHERE film_id = p_film_id\n",
    "     AND store_id = p_store_id\n",
    "     AND inventory_in_stock(inventory_id)\n",
    "     INTO p_film_count;\n",
    "END $$\n",
    "\n",
    "DELIMITER ;"
   ]
  },
  {
   "cell_type": "code",
   "execution_count": 95,
   "id": "16ea322d-855d-476e-8fca-d04c00c9d273",
   "metadata": {},
   "outputs": [
    {
     "data": {
      "text/html": [
       "<html><body><table border=\"1\"><tr><th style=\"text-align:left;white-space:pre\">Db</th><th style=\"text-align:left;white-space:pre\">Name</th><th style=\"text-align:left;white-space:pre\">Type</th><th style=\"text-align:left;white-space:pre\">Definer</th><th style=\"text-align:left;white-space:pre\">Modified</th><th style=\"text-align:left;white-space:pre\">Created</th><th style=\"text-align:left;white-space:pre\">Security_type</th><th style=\"text-align:left;white-space:pre\">Comment</th><th style=\"text-align:left;white-space:pre\">character_set_client</th><th style=\"text-align:left;white-space:pre\">collation_connection</th><th style=\"text-align:left;white-space:pre\">Database Collation</th></tr><tr><td style=\"text-align:left;white-space:pre\">sakila</td><td style=\"text-align:left;white-space:pre\">film_in_stock</td><td style=\"text-align:left;white-space:pre\">PROCEDURE</td><td style=\"text-align:left;white-space:pre\">bibi@localhost</td><td style=\"text-align:left;white-space:pre\">2021-04-15 23:05:34</td><td style=\"text-align:left;white-space:pre\">2021-04-15 23:05:34</td><td style=\"text-align:left;white-space:pre\">DEFINER</td><td style=\"text-align:left;white-space:pre\"></td><td style=\"text-align:left;white-space:pre\">utf8mb4</td><td style=\"text-align:left;white-space:pre\">utf8mb4_general_ci</td><td style=\"text-align:left;white-space:pre\">utf8mb4_general_ci</td></tr><tr><td style=\"text-align:left;white-space:pre\">sakila</td><td style=\"text-align:left;white-space:pre\">film_not_in_stock</td><td style=\"text-align:left;white-space:pre\">PROCEDURE</td><td style=\"text-align:left;white-space:pre\">bibi@localhost</td><td style=\"text-align:left;white-space:pre\">2021-04-15 23:05:34</td><td style=\"text-align:left;white-space:pre\">2021-04-15 23:05:34</td><td style=\"text-align:left;white-space:pre\">DEFINER</td><td style=\"text-align:left;white-space:pre\"></td><td style=\"text-align:left;white-space:pre\">utf8mb4</td><td style=\"text-align:left;white-space:pre\">utf8mb4_general_ci</td><td style=\"text-align:left;white-space:pre\">utf8mb4_general_ci</td></tr><tr><td style=\"text-align:left;white-space:pre\">sakila</td><td style=\"text-align:left;white-space:pre\">rewards_report</td><td style=\"text-align:left;white-space:pre\">PROCEDURE</td><td style=\"text-align:left;white-space:pre\">bibi@localhost</td><td style=\"text-align:left;white-space:pre\">2021-04-15 23:05:34</td><td style=\"text-align:left;white-space:pre\">2021-04-15 23:05:34</td><td style=\"text-align:left;white-space:pre\">DEFINER</td><td style=\"text-align:left;white-space:pre\">Provides a customizable report on best customers</td><td style=\"text-align:left;white-space:pre\">utf8mb4</td><td style=\"text-align:left;white-space:pre\">utf8mb4_general_ci</td><td style=\"text-align:left;white-space:pre\">utf8mb4_general_ci</td></tr></table></body></html>"
      ]
     },
     "metadata": {},
     "output_type": "display_data"
    }
   ],
   "source": [
    "show procedure status where Db='sakila';"
   ]
  },
  {
   "cell_type": "markdown",
   "id": "4662e476-9fef-495b-a3ae-e78eee1519e8",
   "metadata": {},
   "source": [
    "## <span style='font-family:Segoe UI'> **2.2 Funciones**"
   ]
  },
  {
   "cell_type": "code",
   "execution_count": 23,
   "id": "201c8ca7-e0a5-455d-a0e5-d7f4bfa7e8d7",
   "metadata": {},
   "outputs": [
    {
     "data": {
      "text/html": [
       "<html><body><table border=\"1\"><tr><th style=\"text-align:left;white-space:pre\">Db</th><th style=\"text-align:left;white-space:pre\">Name</th><th style=\"text-align:left;white-space:pre\">Type</th><th style=\"text-align:left;white-space:pre\">Definer</th><th style=\"text-align:left;white-space:pre\">Modified</th><th style=\"text-align:left;white-space:pre\">Created</th><th style=\"text-align:left;white-space:pre\">Security_type</th><th style=\"text-align:left;white-space:pre\">Comment</th><th style=\"text-align:left;white-space:pre\">character_set_client</th><th style=\"text-align:left;white-space:pre\">collation_connection</th><th style=\"text-align:left;white-space:pre\">Database Collation</th></tr><tr><td style=\"text-align:left;white-space:pre\">sakila</td><td style=\"text-align:left;white-space:pre\">get_customer_balance</td><td style=\"text-align:left;white-space:pre\">FUNCTION</td><td style=\"text-align:left;white-space:pre\">bibi@localhost</td><td style=\"text-align:left;white-space:pre\">2021-04-15 23:38:49</td><td style=\"text-align:left;white-space:pre\">2021-04-15 23:38:49</td><td style=\"text-align:left;white-space:pre\">DEFINER</td><td style=\"text-align:left;white-space:pre\"></td><td style=\"text-align:left;white-space:pre\">utf8mb4</td><td style=\"text-align:left;white-space:pre\">utf8mb4_general_ci</td><td style=\"text-align:left;white-space:pre\">utf8mb4_general_ci</td></tr><tr><td style=\"text-align:left;white-space:pre\">sakila</td><td style=\"text-align:left;white-space:pre\">inventory_held_by_customer</td><td style=\"text-align:left;white-space:pre\">FUNCTION</td><td style=\"text-align:left;white-space:pre\">bibi@localhost</td><td style=\"text-align:left;white-space:pre\">2021-04-15 23:38:49</td><td style=\"text-align:left;white-space:pre\">2021-04-15 23:38:49</td><td style=\"text-align:left;white-space:pre\">DEFINER</td><td style=\"text-align:left;white-space:pre\"></td><td style=\"text-align:left;white-space:pre\">utf8mb4</td><td style=\"text-align:left;white-space:pre\">utf8mb4_general_ci</td><td style=\"text-align:left;white-space:pre\">utf8mb4_general_ci</td></tr><tr><td style=\"text-align:left;white-space:pre\">sakila</td><td style=\"text-align:left;white-space:pre\">inventory_in_stock</td><td style=\"text-align:left;white-space:pre\">FUNCTION</td><td style=\"text-align:left;white-space:pre\">bibi@localhost</td><td style=\"text-align:left;white-space:pre\">2021-04-15 23:38:49</td><td style=\"text-align:left;white-space:pre\">2021-04-15 23:38:49</td><td style=\"text-align:left;white-space:pre\">DEFINER</td><td style=\"text-align:left;white-space:pre\"></td><td style=\"text-align:left;white-space:pre\">utf8mb4</td><td style=\"text-align:left;white-space:pre\">utf8mb4_general_ci</td><td style=\"text-align:left;white-space:pre\">utf8mb4_general_ci</td></tr></table></body></html>"
      ]
     },
     "metadata": {},
     "output_type": "display_data"
    }
   ],
   "source": [
    "show function status where Db='sakila';"
   ]
  },
  {
   "cell_type": "code",
   "execution_count": 26,
   "id": "8ec0376a-a86f-4867-a746-b0cd35eb5630",
   "metadata": {},
   "outputs": [
    {
     "data": {
      "text/html": [
       "<html><body><table border=\"1\"><tr><th style=\"text-align:left;white-space:pre\">Db</th><th style=\"text-align:left;white-space:pre\">Name</th><th style=\"text-align:left;white-space:pre\">Type</th><th style=\"text-align:left;white-space:pre\">Definer</th><th style=\"text-align:left;white-space:pre\">Modified</th><th style=\"text-align:left;white-space:pre\">Created</th><th style=\"text-align:left;white-space:pre\">Security_type</th><th style=\"text-align:left;white-space:pre\">Comment</th><th style=\"text-align:left;white-space:pre\">character_set_client</th><th style=\"text-align:left;white-space:pre\">collation_connection</th><th style=\"text-align:left;white-space:pre\">Database Collation</th></tr><tr><td style=\"text-align:left;white-space:pre\">sakila</td><td style=\"text-align:left;white-space:pre\">get_customer_balance</td><td style=\"text-align:left;white-space:pre\">FUNCTION</td><td style=\"text-align:left;white-space:pre\">bibi@localhost</td><td style=\"text-align:left;white-space:pre\">2021-04-15 23:38:49</td><td style=\"text-align:left;white-space:pre\">2021-04-15 23:38:49</td><td style=\"text-align:left;white-space:pre\">DEFINER</td><td style=\"text-align:left;white-space:pre\"></td><td style=\"text-align:left;white-space:pre\">utf8mb4</td><td style=\"text-align:left;white-space:pre\">utf8mb4_general_ci</td><td style=\"text-align:left;white-space:pre\">utf8mb4_general_ci</td></tr><tr><td style=\"text-align:left;white-space:pre\">sakila</td><td style=\"text-align:left;white-space:pre\">inventory_held_by_customer</td><td style=\"text-align:left;white-space:pre\">FUNCTION</td><td style=\"text-align:left;white-space:pre\">bibi@localhost</td><td style=\"text-align:left;white-space:pre\">2021-04-15 23:38:49</td><td style=\"text-align:left;white-space:pre\">2021-04-15 23:38:49</td><td style=\"text-align:left;white-space:pre\">DEFINER</td><td style=\"text-align:left;white-space:pre\"></td><td style=\"text-align:left;white-space:pre\">utf8mb4</td><td style=\"text-align:left;white-space:pre\">utf8mb4_general_ci</td><td style=\"text-align:left;white-space:pre\">utf8mb4_general_ci</td></tr><tr><td style=\"text-align:left;white-space:pre\">sakila</td><td style=\"text-align:left;white-space:pre\">inventory_in_stock</td><td style=\"text-align:left;white-space:pre\">FUNCTION</td><td style=\"text-align:left;white-space:pre\">bibi@localhost</td><td style=\"text-align:left;white-space:pre\">2021-04-15 23:38:49</td><td style=\"text-align:left;white-space:pre\">2021-04-15 23:38:49</td><td style=\"text-align:left;white-space:pre\">DEFINER</td><td style=\"text-align:left;white-space:pre\"></td><td style=\"text-align:left;white-space:pre\">utf8mb4</td><td style=\"text-align:left;white-space:pre\">utf8mb4_general_ci</td><td style=\"text-align:left;white-space:pre\">utf8mb4_general_ci</td></tr></table></body></html>"
      ]
     },
     "metadata": {},
     "output_type": "display_data"
    }
   ],
   "source": [
    "DELIMITER $$\n",
    "\n",
    "CREATE FUNCTION get_customer_balance(p_customer_id INT, p_effective_date DATETIME) RETURNS DECIMAL(5,2)\n",
    "    DETERMINISTIC\n",
    "    READS SQL DATA\n",
    "BEGIN\n",
    "\n",
    "       #OK, WE NEED TO CALCULATE THE CURRENT BALANCE GIVEN A CUSTOMER_ID AND A DATE\n",
    "       #THAT WE WANT THE BALANCE TO BE EFFECTIVE FOR. THE BALANCE IS:\n",
    "       #   1) RENTAL FEES FOR ALL PREVIOUS RENTALS\n",
    "       #   2) ONE DOLLAR FOR EVERY DAY THE PREVIOUS RENTALS ARE OVERDUE\n",
    "       #   3) IF A FILM IS MORE THAN RENTAL_DURATION * 2 OVERDUE, CHARGE THE REPLACEMENT_COST\n",
    "       #   4) SUBTRACT ALL PAYMENTS MADE BEFORE THE DATE SPECIFIED\n",
    "\n",
    "  DECLARE v_rentfees DECIMAL(5,2); #FEES PAID TO RENT THE VIDEOS INITIALLY\n",
    "  DECLARE v_overfees INTEGER;      #LATE FEES FOR PRIOR RENTALS\n",
    "  DECLARE v_payments DECIMAL(5,2); #SUM OF PAYMENTS MADE PREVIOUSLY\n",
    "\n",
    "  SELECT IFNULL(SUM(film.rental_rate),0) INTO v_rentfees\n",
    "    FROM film, inventory, rental\n",
    "    WHERE film.film_id = inventory.film_id\n",
    "      AND inventory.inventory_id = rental.inventory_id\n",
    "      AND rental.rental_date <= p_effective_date\n",
    "      AND rental.customer_id = p_customer_id;\n",
    "\n",
    "  SELECT IFNULL(SUM(IF((TO_DAYS(rental.return_date) - TO_DAYS(rental.rental_date)) > film.rental_duration,\n",
    "        ((TO_DAYS(rental.return_date) - TO_DAYS(rental.rental_date)) - film.rental_duration),0)),0) INTO v_overfees\n",
    "    FROM rental, inventory, film\n",
    "    WHERE film.film_id = inventory.film_id\n",
    "      AND inventory.inventory_id = rental.inventory_id\n",
    "      AND rental.rental_date <= p_effective_date\n",
    "      AND rental.customer_id = p_customer_id;\n",
    "\n",
    "\n",
    "  SELECT IFNULL(SUM(payment.amount),0) INTO v_payments\n",
    "    FROM payment\n",
    "\n",
    "    WHERE payment.payment_date <= p_effective_date\n",
    "    AND payment.customer_id = p_customer_id;\n",
    "\n",
    "  RETURN v_rentfees + v_overfees - v_payments;\n",
    "END $$\n",
    "\n",
    "DELIMITER ;"
   ]
  },
  {
   "cell_type": "markdown",
   "id": "e1a0f904-7df7-4a07-b69b-7c7b38d64bec",
   "metadata": {},
   "source": [
    "## <span style='font-family:Segoe UI'> **2.3 Triggers**"
   ]
  },
  {
   "cell_type": "code",
   "execution_count": 32,
   "id": "3cbbf927-d79f-49db-997a-e13cf8030fbe",
   "metadata": {},
   "outputs": [
    {
     "data": {
      "text/html": [
       "<html><body><table border=\"1\"><tr><th style=\"text-align:left;white-space:pre\">Trigger</th><th style=\"text-align:left;white-space:pre\">Event</th><th style=\"text-align:left;white-space:pre\">Table</th><th style=\"text-align:left;white-space:pre\">Statement</th><th style=\"text-align:left;white-space:pre\">Timing</th><th style=\"text-align:left;white-space:pre\">Created</th><th style=\"text-align:left;white-space:pre\">sql_mode</th><th style=\"text-align:left;white-space:pre\">Definer</th><th style=\"text-align:left;white-space:pre\">character_set_client</th><th style=\"text-align:left;white-space:pre\">collation_connection</th><th style=\"text-align:left;white-space:pre\">Database Collation</th></tr><tr><td style=\"text-align:left;white-space:pre\">customer_create_date</td><td style=\"text-align:left;white-space:pre\">INSERT</td><td style=\"text-align:left;white-space:pre\">customer</td><td style=\"text-align:left;white-space:pre\">SET NEW.create_date = NOW()</td><td style=\"text-align:left;white-space:pre\">BEFORE</td><td style=\"text-align:left;white-space:pre\">2021-04-15 23:38:55.59</td><td style=\"text-align:left;white-space:pre\">STRICT_TRANS_TABLES,STRICT_ALL_TABLES,NO_ZERO_IN_DATE,NO_ZERO_DATE,ERROR_FOR_DIVISION_BY_ZERO,TRADITIONAL,NO_AUTO_CREATE_USER,NO_ENGINE_SUBSTITUTION</td><td style=\"text-align:left;white-space:pre\">bibi@localhost</td><td style=\"text-align:left;white-space:pre\">utf8mb4</td><td style=\"text-align:left;white-space:pre\">utf8mb4_general_ci</td><td style=\"text-align:left;white-space:pre\">utf8mb4_general_ci</td></tr><tr><td style=\"text-align:left;white-space:pre\">ins_film</td><td style=\"text-align:left;white-space:pre\">INSERT</td><td style=\"text-align:left;white-space:pre\">film</td><td style=\"text-align:left;white-space:pre\">BEGIN\r\n",
       "    INSERT INTO film_text (film_id, title, description)\r\n",
       "        VALUES (new.film_id, new.title, new.description);\r\n",
       "  END</td><td style=\"text-align:left;white-space:pre\">AFTER</td><td style=\"text-align:left;white-space:pre\">2021-04-15 23:38:49.22</td><td style=\"text-align:left;white-space:pre\">STRICT_TRANS_TABLES,STRICT_ALL_TABLES,NO_ZERO_IN_DATE,NO_ZERO_DATE,ERROR_FOR_DIVISION_BY_ZERO,TRADITIONAL,NO_AUTO_CREATE_USER,NO_ENGINE_SUBSTITUTION</td><td style=\"text-align:left;white-space:pre\">bibi@localhost</td><td style=\"text-align:left;white-space:pre\">utf8mb4</td><td style=\"text-align:left;white-space:pre\">utf8mb4_general_ci</td><td style=\"text-align:left;white-space:pre\">utf8mb4_general_ci</td></tr><tr><td style=\"text-align:left;white-space:pre\">upd_film</td><td style=\"text-align:left;white-space:pre\">UPDATE</td><td style=\"text-align:left;white-space:pre\">film</td><td style=\"text-align:left;white-space:pre\">BEGIN\r\n",
       "    IF (old.title != new.title) OR (old.description != new.description) OR (old.film_id != new.film_id)\r\n",
       "    THEN\r\n",
       "        UPDATE film_text\r\n",
       "            SET title=new.title,\r\n",
       "                description=new.description,\r\n",
       "                film_id=new.film_id\r\n",
       "        WHERE film_id=old.film_id;\r\n",
       "    END IF;\r\n",
       "  END</td><td style=\"text-align:left;white-space:pre\">AFTER</td><td style=\"text-align:left;white-space:pre\">2021-04-15 23:38:49.23</td><td style=\"text-align:left;white-space:pre\">STRICT_TRANS_TABLES,STRICT_ALL_TABLES,NO_ZERO_IN_DATE,NO_ZERO_DATE,ERROR_FOR_DIVISION_BY_ZERO,TRADITIONAL,NO_AUTO_CREATE_USER,NO_ENGINE_SUBSTITUTION</td><td style=\"text-align:left;white-space:pre\">bibi@localhost</td><td style=\"text-align:left;white-space:pre\">utf8mb4</td><td style=\"text-align:left;white-space:pre\">utf8mb4_general_ci</td><td style=\"text-align:left;white-space:pre\">utf8mb4_general_ci</td></tr><tr><td style=\"text-align:left;white-space:pre\">del_film</td><td style=\"text-align:left;white-space:pre\">DELETE</td><td style=\"text-align:left;white-space:pre\">film</td><td style=\"text-align:left;white-space:pre\">BEGIN\r\n",
       "    DELETE FROM film_text WHERE film_id = old.film_id;\r\n",
       "  END</td><td style=\"text-align:left;white-space:pre\">AFTER</td><td style=\"text-align:left;white-space:pre\">2021-04-15 23:38:49.23</td><td style=\"text-align:left;white-space:pre\">STRICT_TRANS_TABLES,STRICT_ALL_TABLES,NO_ZERO_IN_DATE,NO_ZERO_DATE,ERROR_FOR_DIVISION_BY_ZERO,TRADITIONAL,NO_AUTO_CREATE_USER,NO_ENGINE_SUBSTITUTION</td><td style=\"text-align:left;white-space:pre\">bibi@localhost</td><td style=\"text-align:left;white-space:pre\">utf8mb4</td><td style=\"text-align:left;white-space:pre\">utf8mb4_general_ci</td><td style=\"text-align:left;white-space:pre\">utf8mb4_general_ci</td></tr><tr><td style=\"text-align:left;white-space:pre\">payment_date</td><td style=\"text-align:left;white-space:pre\">INSERT</td><td style=\"text-align:left;white-space:pre\">payment</td><td style=\"text-align:left;white-space:pre\">SET NEW.payment_date = NOW()</td><td style=\"text-align:left;white-space:pre\">BEFORE</td><td style=\"text-align:left;white-space:pre\">2021-04-15 23:38:56.61</td><td style=\"text-align:left;white-space:pre\">STRICT_TRANS_TABLES,STRICT_ALL_TABLES,NO_ZERO_IN_DATE,NO_ZERO_DATE,ERROR_FOR_DIVISION_BY_ZERO,TRADITIONAL,NO_AUTO_CREATE_USER,NO_ENGINE_SUBSTITUTION</td><td style=\"text-align:left;white-space:pre\">bibi@localhost</td><td style=\"text-align:left;white-space:pre\">utf8mb4</td><td style=\"text-align:left;white-space:pre\">utf8mb4_general_ci</td><td style=\"text-align:left;white-space:pre\">utf8mb4_general_ci</td></tr><tr><td style=\"text-align:left;white-space:pre\">rental_date</td><td style=\"text-align:left;white-space:pre\">INSERT</td><td style=\"text-align:left;white-space:pre\">rental</td><td style=\"text-align:left;white-space:pre\">SET NEW.rental_date = NOW()</td><td style=\"text-align:left;white-space:pre\">BEFORE</td><td style=\"text-align:left;white-space:pre\">2021-04-15 23:38:57.30</td><td style=\"text-align:left;white-space:pre\">STRICT_TRANS_TABLES,STRICT_ALL_TABLES,NO_ZERO_IN_DATE,NO_ZERO_DATE,ERROR_FOR_DIVISION_BY_ZERO,TRADITIONAL,NO_AUTO_CREATE_USER,NO_ENGINE_SUBSTITUTION</td><td style=\"text-align:left;white-space:pre\">bibi@localhost</td><td style=\"text-align:left;white-space:pre\">utf8mb4</td><td style=\"text-align:left;white-space:pre\">utf8mb4_general_ci</td><td style=\"text-align:left;white-space:pre\">utf8mb4_general_ci</td></tr></table></body></html>"
      ]
     },
     "metadata": {},
     "output_type": "display_data"
    }
   ],
   "source": [
    "show triggers from sakila;"
   ]
  },
  {
   "cell_type": "markdown",
   "id": "e3268e60-9678-47cc-953c-fe6edaf44c1f",
   "metadata": {},
   "source": [
    "## <span style='font-family:Segoe UI'> **3. Análisis estadístico**"
   ]
  },
  {
   "cell_type": "code",
   "execution_count": null,
   "id": "4ae398a3-de5d-4f71-bce2-c37d5ae0d3f9",
   "metadata": {},
   "outputs": [],
   "source": [
    "#!pip install pandas\n",
    "#!pip install sqlalchemy # ORM for databases\n",
    "#!pip install ipython-sql # SQL magic function\n",
    "#!pip install pyhive[mariadb] # DB driver library\n",
    "#!pip install seaborn"
   ]
  },
  {
   "cell_type": "code",
   "execution_count": 28,
   "id": "3f5df4f1-9670-4ce1-af98-0bd5121d5605",
   "metadata": {},
   "outputs": [],
   "source": [
    "import sqlalchemy\n",
    "from sqlalchemy import create_engine\n",
    "import numpy as np\n",
    "import seaborn as sns\n",
    "import matplotlib.pyplot as plt\n",
    "import pandas as pd"
   ]
  },
  {
   "cell_type": "code",
   "execution_count": 32,
   "id": "a4fb0800-e820-4646-b812-b7c185a375dc",
   "metadata": {},
   "outputs": [],
   "source": [
    "import mysql.connector as mariadb\n",
    "\n",
    "mariadb_conexion = mariadb.connect(host='localhost', port='3306',\n",
    "                                   user='bibi', password='1971', database='world')\n",
    "cursor = mariadb_conexion.cursor()"
   ]
  },
  {
   "cell_type": "code",
   "execution_count": 37,
   "id": "37e63974-1929-4cd0-8888-cc9a258c7689",
   "metadata": {},
   "outputs": [
    {
     "name": "stdout",
     "output_type": "stream",
     "text": [
      "Resultado consulta:\n",
      "(1, 'Kabul', 'AFG', 'Kabol', 1780000)\n"
     ]
    }
   ],
   "source": [
    "result = \"SELECT * FROM city limit 1;\"\n",
    "cursor.execute(result)\n",
    "filas = cursor.fetchall()\n",
    "print(\"Resultado consulta:\")\n",
    "for fila in filas:\n",
    "   print(fila)"
   ]
  },
  {
   "cell_type": "code",
   "execution_count": 39,
   "id": "0e6ae6eb-6d41-4928-a3a1-51a853d8d2de",
   "metadata": {},
   "outputs": [
    {
     "name": "stdout",
     "output_type": "stream",
     "text": [
      "Resultado consulta:\n",
      "('Asia', 51, Decimal('21.3400'), Decimal('31881005.00'), Decimal('3705025700'))\n",
      "('Europe', 46, Decimal('19.2500'), Decimal('23049133.90'), Decimal('730074600'))\n",
      "('North America', 37, Decimal('15.4800'), Decimal('24214470.00'), Decimal('482993000'))\n",
      "('Africa', 58, Decimal('24.2700'), Decimal('30250377.00'), Decimal('784475000'))\n",
      "('Oceania', 28, Decimal('11.7200'), Decimal('8564294.00'), Decimal('30401150'))\n",
      "('Antarctica', 5, Decimal('2.0900'), Decimal('13132101.00'), Decimal('0'))\n",
      "('South America', 14, Decimal('5.8600'), Decimal('17864926.00'), Decimal('345780000'))\n"
     ]
    }
   ],
   "source": [
    "paises_continente = \"Select Continent,count(*) as Num_paises,(count(*)/239)*100 as Perc_paises,sum(SurfaceArea) as SurfaceArea,sum(Population) as Population from country group by Continent\"\n",
    "cursor.execute(paises_continente)\n",
    "filas = cursor.fetchall()\n",
    "print(\"Resultado consulta:\")\n",
    "for fila in filas:\n",
    "   print(fila)"
   ]
  },
  {
   "cell_type": "code",
   "execution_count": 44,
   "id": "91408ba7-94be-46dd-90aa-d6a0b9986209",
   "metadata": {},
   "outputs": [
    {
     "name": "stdout",
     "output_type": "stream",
     "text": [
      "Resultado consulta:\n",
      "('North America', 'Aruba', 'ABW', 'Dutch', 'T', Decimal('5.3'))\n",
      "('North America', 'Aruba', 'ABW', 'English', 'F', Decimal('9.5'))\n",
      "('North America', 'Aruba', 'ABW', 'Papiamento', 'F', Decimal('76.7'))\n",
      "('North America', 'Aruba', 'ABW', 'Spanish', 'F', Decimal('7.4'))\n",
      "('Asia', 'Afghanistan', 'AFG', 'Balochi', 'F', Decimal('0.9'))\n",
      "('Asia', 'Afghanistan', 'AFG', 'Dari', 'T', Decimal('32.1'))\n",
      "('Asia', 'Afghanistan', 'AFG', 'Pashto', 'T', Decimal('52.4'))\n",
      "('Asia', 'Afghanistan', 'AFG', 'Turkmenian', 'F', Decimal('1.9'))\n",
      "('Asia', 'Afghanistan', 'AFG', 'Uzbek', 'F', Decimal('8.8'))\n",
      "('Africa', 'Angola', 'AGO', 'Ambo', 'F', Decimal('2.4'))\n",
      "('Africa', 'Angola', 'AGO', 'Chokwe', 'F', Decimal('4.2'))\n",
      "('Africa', 'Angola', 'AGO', 'Kongo', 'F', Decimal('13.2'))\n",
      "('Africa', 'Angola', 'AGO', 'Luchazi', 'F', Decimal('2.4'))\n",
      "('Africa', 'Angola', 'AGO', 'Luimbe-nganguela', 'F', Decimal('5.4'))\n",
      "('Africa', 'Angola', 'AGO', 'Luvale', 'F', Decimal('3.6'))\n",
      "('Africa', 'Angola', 'AGO', 'Mbundu', 'F', Decimal('21.6'))\n",
      "('Africa', 'Angola', 'AGO', 'Nyaneka-nkhumbi', 'F', Decimal('5.4'))\n",
      "('Africa', 'Angola', 'AGO', 'Ovimbundu', 'F', Decimal('37.2'))\n",
      "('North America', 'Anguilla', 'AIA', 'English', 'T', Decimal('0.0'))\n",
      "('Europe', 'Albania', 'ALB', 'Albaniana', 'T', Decimal('97.9'))\n",
      "('Europe', 'Albania', 'ALB', 'Greek', 'F', Decimal('1.8'))\n",
      "('Europe', 'Albania', 'ALB', 'Macedonian', 'F', Decimal('0.1'))\n",
      "('Europe', 'Andorra', 'AND', 'Catalan', 'T', Decimal('32.3'))\n",
      "('Europe', 'Andorra', 'AND', 'French', 'F', Decimal('6.2'))\n",
      "('Europe', 'Andorra', 'AND', 'Portuguese', 'F', Decimal('10.8'))\n",
      "('Europe', 'Andorra', 'AND', 'Spanish', 'F', Decimal('44.6'))\n",
      "('North America', 'Netherlands Antilles', 'ANT', 'Dutch', 'T', Decimal('0.0'))\n",
      "('North America', 'Netherlands Antilles', 'ANT', 'English', 'F', Decimal('7.8'))\n",
      "('North America', 'Netherlands Antilles', 'ANT', 'Papiamento', 'T', Decimal('86.2'))\n",
      "('Asia', 'United Arab Emirates', 'ARE', 'Arabic', 'T', Decimal('42.0'))\n",
      "('Asia', 'United Arab Emirates', 'ARE', 'Hindi', 'F', Decimal('0.0'))\n",
      "('South America', 'Argentina', 'ARG', 'Indian Languages', 'F', Decimal('0.3'))\n",
      "('South America', 'Argentina', 'ARG', 'Italian', 'F', Decimal('1.7'))\n",
      "('South America', 'Argentina', 'ARG', 'Spanish', 'T', Decimal('96.8'))\n",
      "('Asia', 'Armenia', 'ARM', 'Armenian', 'T', Decimal('93.4'))\n",
      "('Asia', 'Armenia', 'ARM', 'Azerbaijani', 'F', Decimal('2.6'))\n",
      "('Oceania', 'American Samoa', 'ASM', 'English', 'T', Decimal('3.1'))\n",
      "('Oceania', 'American Samoa', 'ASM', 'Samoan', 'T', Decimal('90.6'))\n",
      "('Oceania', 'American Samoa', 'ASM', 'Tongan', 'F', Decimal('3.1'))\n",
      "('North America', 'Antigua and Barbuda', 'ATG', 'Creole English', 'F', Decimal('95.7'))\n",
      "('North America', 'Antigua and Barbuda', 'ATG', 'English', 'T', Decimal('0.0'))\n",
      "('Oceania', 'Australia', 'AUS', 'Arabic', 'F', Decimal('1.0'))\n",
      "('Oceania', 'Australia', 'AUS', 'Canton Chinese', 'F', Decimal('1.1'))\n",
      "('Oceania', 'Australia', 'AUS', 'English', 'T', Decimal('81.2'))\n",
      "('Oceania', 'Australia', 'AUS', 'German', 'F', Decimal('0.6'))\n",
      "('Oceania', 'Australia', 'AUS', 'Greek', 'F', Decimal('1.6'))\n",
      "('Oceania', 'Australia', 'AUS', 'Italian', 'F', Decimal('2.2'))\n",
      "('Oceania', 'Australia', 'AUS', 'Serbo-Croatian', 'F', Decimal('0.6'))\n",
      "('Oceania', 'Australia', 'AUS', 'Vietnamese', 'F', Decimal('0.8'))\n",
      "('Europe', 'Austria', 'AUT', 'Czech', 'F', Decimal('0.2'))\n",
      "('Europe', 'Austria', 'AUT', 'German', 'T', Decimal('92.0'))\n",
      "('Europe', 'Austria', 'AUT', 'Hungarian', 'F', Decimal('0.4'))\n",
      "('Europe', 'Austria', 'AUT', 'Polish', 'F', Decimal('0.2'))\n",
      "('Europe', 'Austria', 'AUT', 'Romanian', 'F', Decimal('0.2'))\n",
      "('Europe', 'Austria', 'AUT', 'Serbo-Croatian', 'F', Decimal('2.2'))\n",
      "('Europe', 'Austria', 'AUT', 'Slovene', 'F', Decimal('0.4'))\n",
      "('Europe', 'Austria', 'AUT', 'Turkish', 'F', Decimal('1.5'))\n",
      "('Asia', 'Azerbaijan', 'AZE', 'Armenian', 'F', Decimal('2.0'))\n",
      "('Asia', 'Azerbaijan', 'AZE', 'Azerbaijani', 'T', Decimal('89.0'))\n",
      "('Asia', 'Azerbaijan', 'AZE', 'Lezgian', 'F', Decimal('2.3'))\n",
      "('Asia', 'Azerbaijan', 'AZE', 'Russian', 'F', Decimal('3.0'))\n",
      "('Africa', 'Burundi', 'BDI', 'French', 'T', Decimal('0.0'))\n",
      "('Africa', 'Burundi', 'BDI', 'Kirundi', 'T', Decimal('98.1'))\n",
      "('Africa', 'Burundi', 'BDI', 'Swahili', 'F', Decimal('0.0'))\n",
      "('Europe', 'Belgium', 'BEL', 'Arabic', 'F', Decimal('1.6'))\n",
      "('Europe', 'Belgium', 'BEL', 'Dutch', 'T', Decimal('59.2'))\n",
      "('Europe', 'Belgium', 'BEL', 'French', 'T', Decimal('32.6'))\n",
      "('Europe', 'Belgium', 'BEL', 'German', 'T', Decimal('1.0'))\n",
      "('Europe', 'Belgium', 'BEL', 'Italian', 'F', Decimal('2.4'))\n",
      "('Europe', 'Belgium', 'BEL', 'Turkish', 'F', Decimal('0.9'))\n",
      "('Africa', 'Benin', 'BEN', 'Adja', 'F', Decimal('11.1'))\n",
      "('Africa', 'Benin', 'BEN', 'Aizo', 'F', Decimal('8.7'))\n",
      "('Africa', 'Benin', 'BEN', 'Bariba', 'F', Decimal('8.7'))\n",
      "('Africa', 'Benin', 'BEN', 'Fon', 'F', Decimal('39.8'))\n",
      "('Africa', 'Benin', 'BEN', 'Ful', 'F', Decimal('5.6'))\n",
      "('Africa', 'Benin', 'BEN', 'Joruba', 'F', Decimal('12.2'))\n",
      "('Africa', 'Benin', 'BEN', 'Somba', 'F', Decimal('6.7'))\n",
      "('Africa', 'Burkina Faso', 'BFA', 'Busansi', 'F', Decimal('3.5'))\n",
      "('Africa', 'Burkina Faso', 'BFA', 'Dagara', 'F', Decimal('3.1'))\n",
      "('Africa', 'Burkina Faso', 'BFA', 'Dyula', 'F', Decimal('2.6'))\n",
      "('Africa', 'Burkina Faso', 'BFA', 'Ful', 'F', Decimal('9.7'))\n",
      "('Africa', 'Burkina Faso', 'BFA', 'Gurma', 'F', Decimal('5.7'))\n",
      "('Africa', 'Burkina Faso', 'BFA', 'Mossi', 'F', Decimal('50.2'))\n",
      "('Asia', 'Bangladesh', 'BGD', 'Bengali', 'T', Decimal('97.7'))\n",
      "('Asia', 'Bangladesh', 'BGD', 'Chakma', 'F', Decimal('0.4'))\n",
      "('Asia', 'Bangladesh', 'BGD', 'Garo', 'F', Decimal('0.1'))\n",
      "('Asia', 'Bangladesh', 'BGD', 'Khasi', 'F', Decimal('0.1'))\n",
      "('Asia', 'Bangladesh', 'BGD', 'Marma', 'F', Decimal('0.2'))\n",
      "('Asia', 'Bangladesh', 'BGD', 'Santhali', 'F', Decimal('0.1'))\n",
      "('Asia', 'Bangladesh', 'BGD', 'Tripuri', 'F', Decimal('0.1'))\n",
      "('Europe', 'Bulgaria', 'BGR', 'Bulgariana', 'T', Decimal('83.2'))\n",
      "('Europe', 'Bulgaria', 'BGR', 'Macedonian', 'F', Decimal('2.6'))\n",
      "('Europe', 'Bulgaria', 'BGR', 'Romani', 'F', Decimal('3.7'))\n",
      "('Europe', 'Bulgaria', 'BGR', 'Turkish', 'F', Decimal('9.4'))\n",
      "('Asia', 'Bahrain', 'BHR', 'Arabic', 'T', Decimal('67.7'))\n",
      "('Asia', 'Bahrain', 'BHR', 'English', 'F', Decimal('0.0'))\n",
      "('North America', 'Bahamas', 'BHS', 'Creole English', 'F', Decimal('89.7'))\n",
      "('North America', 'Bahamas', 'BHS', 'Creole French', 'F', Decimal('10.3'))\n",
      "('Europe', 'Bosnia and Herzegovina', 'BIH', 'Serbo-Croatian', 'T', Decimal('99.2'))\n",
      "('Europe', 'Belarus', 'BLR', 'Belorussian', 'T', Decimal('65.6'))\n",
      "('Europe', 'Belarus', 'BLR', 'Polish', 'F', Decimal('0.6'))\n",
      "('Europe', 'Belarus', 'BLR', 'Russian', 'T', Decimal('32.0'))\n",
      "('Europe', 'Belarus', 'BLR', 'Ukrainian', 'F', Decimal('1.3'))\n",
      "('North America', 'Belize', 'BLZ', 'English', 'T', Decimal('50.8'))\n",
      "('North America', 'Belize', 'BLZ', 'Garifuna', 'F', Decimal('6.8'))\n",
      "('North America', 'Belize', 'BLZ', 'Maya Languages', 'F', Decimal('9.6'))\n",
      "('North America', 'Belize', 'BLZ', 'Spanish', 'F', Decimal('31.6'))\n",
      "('North America', 'Bermuda', 'BMU', 'English', 'T', Decimal('100.0'))\n",
      "('South America', 'Bolivia', 'BOL', 'Aimará', 'T', Decimal('3.2'))\n",
      "('South America', 'Bolivia', 'BOL', 'Guaraní', 'F', Decimal('0.1'))\n",
      "('South America', 'Bolivia', 'BOL', 'Ketšua', 'T', Decimal('8.1'))\n",
      "('South America', 'Bolivia', 'BOL', 'Spanish', 'T', Decimal('87.7'))\n",
      "('South America', 'Brazil', 'BRA', 'German', 'F', Decimal('0.5'))\n",
      "('South America', 'Brazil', 'BRA', 'Indian Languages', 'F', Decimal('0.2'))\n",
      "('South America', 'Brazil', 'BRA', 'Italian', 'F', Decimal('0.4'))\n",
      "('South America', 'Brazil', 'BRA', 'Japanese', 'F', Decimal('0.4'))\n",
      "('South America', 'Brazil', 'BRA', 'Portuguese', 'T', Decimal('97.5'))\n",
      "('North America', 'Barbados', 'BRB', 'Bajan', 'F', Decimal('95.1'))\n",
      "('North America', 'Barbados', 'BRB', 'English', 'T', Decimal('0.0'))\n",
      "('Asia', 'Brunei', 'BRN', 'Chinese', 'F', Decimal('9.3'))\n",
      "('Asia', 'Brunei', 'BRN', 'English', 'F', Decimal('3.1'))\n",
      "('Asia', 'Brunei', 'BRN', 'Malay', 'T', Decimal('45.5'))\n",
      "('Asia', 'Brunei', 'BRN', 'Malay-English', 'F', Decimal('28.8'))\n",
      "('Asia', 'Bhutan', 'BTN', 'Asami', 'F', Decimal('15.2'))\n",
      "('Asia', 'Bhutan', 'BTN', 'Dzongkha', 'T', Decimal('50.0'))\n",
      "('Asia', 'Bhutan', 'BTN', 'Nepali', 'F', Decimal('34.8'))\n",
      "('Africa', 'Botswana', 'BWA', 'Khoekhoe', 'F', Decimal('2.5'))\n",
      "('Africa', 'Botswana', 'BWA', 'Ndebele', 'F', Decimal('1.3'))\n",
      "('Africa', 'Botswana', 'BWA', 'San', 'F', Decimal('3.5'))\n",
      "('Africa', 'Botswana', 'BWA', 'Shona', 'F', Decimal('12.3'))\n",
      "('Africa', 'Botswana', 'BWA', 'Tswana', 'F', Decimal('75.5'))\n",
      "('Africa', 'Central African Republic', 'CAF', 'Banda', 'F', Decimal('23.5'))\n",
      "('Africa', 'Central African Republic', 'CAF', 'Gbaya', 'F', Decimal('23.8'))\n",
      "('Africa', 'Central African Republic', 'CAF', 'Mandjia', 'F', Decimal('14.8'))\n",
      "('Africa', 'Central African Republic', 'CAF', 'Mbum', 'F', Decimal('6.4'))\n",
      "('Africa', 'Central African Republic', 'CAF', 'Ngbaka', 'F', Decimal('7.5'))\n",
      "('Africa', 'Central African Republic', 'CAF', 'Sara', 'F', Decimal('6.4'))\n",
      "('North America', 'Canada', 'CAN', 'Chinese', 'F', Decimal('2.5'))\n",
      "('North America', 'Canada', 'CAN', 'Dutch', 'F', Decimal('0.5'))\n",
      "('North America', 'Canada', 'CAN', 'English', 'T', Decimal('60.4'))\n",
      "('North America', 'Canada', 'CAN', 'Eskimo Languages', 'F', Decimal('0.1'))\n",
      "('North America', 'Canada', 'CAN', 'French', 'T', Decimal('23.4'))\n",
      "('North America', 'Canada', 'CAN', 'German', 'F', Decimal('1.6'))\n",
      "('North America', 'Canada', 'CAN', 'Italian', 'F', Decimal('1.7'))\n",
      "('North America', 'Canada', 'CAN', 'Polish', 'F', Decimal('0.7'))\n",
      "('North America', 'Canada', 'CAN', 'Portuguese', 'F', Decimal('0.7'))\n",
      "('North America', 'Canada', 'CAN', 'Punjabi', 'F', Decimal('0.7'))\n",
      "('North America', 'Canada', 'CAN', 'Spanish', 'F', Decimal('0.7'))\n",
      "('North America', 'Canada', 'CAN', 'Ukrainian', 'F', Decimal('0.6'))\n",
      "('Oceania', 'Cocos (Keeling) Islands', 'CCK', 'English', 'T', Decimal('0.0'))\n",
      "('Oceania', 'Cocos (Keeling) Islands', 'CCK', 'Malay', 'F', Decimal('0.0'))\n",
      "('Europe', 'Switzerland', 'CHE', 'French', 'T', Decimal('19.2'))\n",
      "('Europe', 'Switzerland', 'CHE', 'German', 'T', Decimal('63.6'))\n",
      "('Europe', 'Switzerland', 'CHE', 'Italian', 'T', Decimal('7.7'))\n",
      "('Europe', 'Switzerland', 'CHE', 'Romansh', 'T', Decimal('0.6'))\n",
      "('South America', 'Chile', 'CHL', 'Aimará', 'F', Decimal('0.5'))\n",
      "('South America', 'Chile', 'CHL', 'Araucan', 'F', Decimal('9.6'))\n",
      "('South America', 'Chile', 'CHL', 'Rapa nui', 'F', Decimal('0.2'))\n",
      "('South America', 'Chile', 'CHL', 'Spanish', 'T', Decimal('89.7'))\n",
      "('Asia', 'China', 'CHN', 'Chinese', 'T', Decimal('92.0'))\n",
      "('Asia', 'China', 'CHN', 'Dong', 'F', Decimal('0.2'))\n",
      "('Asia', 'China', 'CHN', 'Hui', 'F', Decimal('0.8'))\n",
      "('Asia', 'China', 'CHN', 'Mantšu', 'F', Decimal('0.9'))\n",
      "('Asia', 'China', 'CHN', 'Miao', 'F', Decimal('0.7'))\n",
      "('Asia', 'China', 'CHN', 'Mongolian', 'F', Decimal('0.4'))\n",
      "('Asia', 'China', 'CHN', 'Puyi', 'F', Decimal('0.2'))\n",
      "('Asia', 'China', 'CHN', 'Tibetan', 'F', Decimal('0.4'))\n",
      "('Asia', 'China', 'CHN', 'Tujia', 'F', Decimal('0.5'))\n",
      "('Asia', 'China', 'CHN', 'Uighur', 'F', Decimal('0.6'))\n",
      "('Asia', 'China', 'CHN', 'Yi', 'F', Decimal('0.6'))\n",
      "('Asia', 'China', 'CHN', 'Zhuang', 'F', Decimal('1.4'))\n",
      "('Africa', 'Côte d’Ivoire', 'CIV', 'Akan', 'F', Decimal('30.0'))\n",
      "('Africa', 'Côte d’Ivoire', 'CIV', 'Gur', 'F', Decimal('11.7'))\n",
      "('Africa', 'Côte d’Ivoire', 'CIV', 'Kru', 'F', Decimal('10.5'))\n",
      "('Africa', 'Côte d’Ivoire', 'CIV', 'Malinke', 'F', Decimal('11.4'))\n",
      "('Africa', 'Côte d’Ivoire', 'CIV', '[South]Mande', 'F', Decimal('7.7'))\n",
      "('Africa', 'Cameroon', 'CMR', 'Bamileke-bamum', 'F', Decimal('18.6'))\n",
      "('Africa', 'Cameroon', 'CMR', 'Duala', 'F', Decimal('10.9'))\n",
      "('Africa', 'Cameroon', 'CMR', 'Fang', 'F', Decimal('19.7'))\n",
      "('Africa', 'Cameroon', 'CMR', 'Ful', 'F', Decimal('9.6'))\n",
      "('Africa', 'Cameroon', 'CMR', 'Maka', 'F', Decimal('4.9'))\n",
      "('Africa', 'Cameroon', 'CMR', 'Mandara', 'F', Decimal('5.7'))\n",
      "('Africa', 'Cameroon', 'CMR', 'Masana', 'F', Decimal('3.9'))\n",
      "('Africa', 'Cameroon', 'CMR', 'Tikar', 'F', Decimal('7.4'))\n",
      "('Africa', 'Congo, The Democratic Republic of the', 'COD', 'Boa', 'F', Decimal('2.3'))\n",
      "('Africa', 'Congo, The Democratic Republic of the', 'COD', 'Chokwe', 'F', Decimal('1.8'))\n",
      "('Africa', 'Congo, The Democratic Republic of the', 'COD', 'Kongo', 'F', Decimal('16.0'))\n",
      "('Africa', 'Congo, The Democratic Republic of the', 'COD', 'Luba', 'F', Decimal('18.0'))\n",
      "('Africa', 'Congo, The Democratic Republic of the', 'COD', 'Mongo', 'F', Decimal('13.5'))\n",
      "('Africa', 'Congo, The Democratic Republic of the', 'COD', 'Ngala and Bangi', 'F', Decimal('5.8'))\n",
      "('Africa', 'Congo, The Democratic Republic of the', 'COD', 'Rundi', 'F', Decimal('3.8'))\n",
      "('Africa', 'Congo, The Democratic Republic of the', 'COD', 'Rwanda', 'F', Decimal('10.3'))\n",
      "('Africa', 'Congo, The Democratic Republic of the', 'COD', 'Teke', 'F', Decimal('2.7'))\n",
      "('Africa', 'Congo, The Democratic Republic of the', 'COD', 'Zande', 'F', Decimal('6.1'))\n",
      "('Africa', 'Congo', 'COG', 'Kongo', 'F', Decimal('51.5'))\n",
      "('Africa', 'Congo', 'COG', 'Mbete', 'F', Decimal('4.8'))\n",
      "('Africa', 'Congo', 'COG', 'Mboshi', 'F', Decimal('11.4'))\n",
      "('Africa', 'Congo', 'COG', 'Punu', 'F', Decimal('2.9'))\n",
      "('Africa', 'Congo', 'COG', 'Sango', 'F', Decimal('2.6'))\n",
      "('Africa', 'Congo', 'COG', 'Teke', 'F', Decimal('17.3'))\n",
      "('Oceania', 'Cook Islands', 'COK', 'English', 'F', Decimal('0.0'))\n",
      "('Oceania', 'Cook Islands', 'COK', 'Maori', 'T', Decimal('0.0'))\n",
      "('South America', 'Colombia', 'COL', 'Arawakan', 'F', Decimal('0.1'))\n",
      "('South America', 'Colombia', 'COL', 'Caribbean', 'F', Decimal('0.1'))\n",
      "('South America', 'Colombia', 'COL', 'Chibcha', 'F', Decimal('0.4'))\n",
      "('South America', 'Colombia', 'COL', 'Creole English', 'F', Decimal('0.1'))\n",
      "('South America', 'Colombia', 'COL', 'Spanish', 'T', Decimal('99.0'))\n",
      "('Africa', 'Comoros', 'COM', 'Comorian', 'T', Decimal('75.0'))\n",
      "('Africa', 'Comoros', 'COM', 'Comorian-Arabic', 'F', Decimal('1.6'))\n",
      "('Africa', 'Comoros', 'COM', 'Comorian-French', 'F', Decimal('12.9'))\n",
      "('Africa', 'Comoros', 'COM', 'Comorian-madagassi', 'F', Decimal('5.5'))\n",
      "('Africa', 'Comoros', 'COM', 'Comorian-Swahili', 'F', Decimal('0.5'))\n",
      "('Africa', 'Cape Verde', 'CPV', 'Crioulo', 'F', Decimal('100.0'))\n",
      "('Africa', 'Cape Verde', 'CPV', 'Portuguese', 'T', Decimal('0.0'))\n",
      "('North America', 'Costa Rica', 'CRI', 'Chibcha', 'F', Decimal('0.3'))\n",
      "('North America', 'Costa Rica', 'CRI', 'Chinese', 'F', Decimal('0.2'))\n",
      "('North America', 'Costa Rica', 'CRI', 'Creole English', 'F', Decimal('2.0'))\n",
      "('North America', 'Costa Rica', 'CRI', 'Spanish', 'T', Decimal('97.5'))\n",
      "('North America', 'Cuba', 'CUB', 'Spanish', 'T', Decimal('100.0'))\n",
      "('Oceania', 'Christmas Island', 'CXR', 'Chinese', 'F', Decimal('0.0'))\n",
      "('Oceania', 'Christmas Island', 'CXR', 'English', 'T', Decimal('0.0'))\n",
      "('North America', 'Cayman Islands', 'CYM', 'English', 'T', Decimal('0.0'))\n",
      "('Asia', 'Cyprus', 'CYP', 'Greek', 'T', Decimal('74.1'))\n",
      "('Asia', 'Cyprus', 'CYP', 'Turkish', 'T', Decimal('22.4'))\n",
      "('Europe', 'Czech Republic', 'CZE', 'Czech', 'T', Decimal('81.2'))\n",
      "('Europe', 'Czech Republic', 'CZE', 'German', 'F', Decimal('0.5'))\n",
      "('Europe', 'Czech Republic', 'CZE', 'Hungarian', 'F', Decimal('0.2'))\n",
      "('Europe', 'Czech Republic', 'CZE', 'Moravian', 'F', Decimal('12.9'))\n",
      "('Europe', 'Czech Republic', 'CZE', 'Polish', 'F', Decimal('0.6'))\n",
      "('Europe', 'Czech Republic', 'CZE', 'Romani', 'F', Decimal('0.3'))\n",
      "('Europe', 'Czech Republic', 'CZE', 'Silesiana', 'F', Decimal('0.4'))\n",
      "('Europe', 'Czech Republic', 'CZE', 'Slovak', 'F', Decimal('3.1'))\n",
      "('Europe', 'Germany', 'DEU', 'German', 'T', Decimal('91.3'))\n",
      "('Europe', 'Germany', 'DEU', 'Greek', 'F', Decimal('0.4'))\n",
      "('Europe', 'Germany', 'DEU', 'Italian', 'F', Decimal('0.7'))\n",
      "('Europe', 'Germany', 'DEU', 'Polish', 'F', Decimal('0.3'))\n",
      "('Europe', 'Germany', 'DEU', 'Southern Slavic Languages', 'F', Decimal('1.4'))\n",
      "('Europe', 'Germany', 'DEU', 'Turkish', 'F', Decimal('2.6'))\n",
      "('Africa', 'Djibouti', 'DJI', 'Afar', 'F', Decimal('34.8'))\n",
      "('Africa', 'Djibouti', 'DJI', 'Arabic', 'T', Decimal('10.6'))\n",
      "('Africa', 'Djibouti', 'DJI', 'Somali', 'F', Decimal('43.9'))\n",
      "('North America', 'Dominica', 'DMA', 'Creole English', 'F', Decimal('100.0'))\n",
      "('North America', 'Dominica', 'DMA', 'Creole French', 'F', Decimal('0.0'))\n",
      "('Europe', 'Denmark', 'DNK', 'Arabic', 'F', Decimal('0.7'))\n",
      "('Europe', 'Denmark', 'DNK', 'Danish', 'T', Decimal('93.5'))\n",
      "('Europe', 'Denmark', 'DNK', 'English', 'F', Decimal('0.3'))\n",
      "('Europe', 'Denmark', 'DNK', 'German', 'F', Decimal('0.5'))\n",
      "('Europe', 'Denmark', 'DNK', 'Norwegian', 'F', Decimal('0.3'))\n",
      "('Europe', 'Denmark', 'DNK', 'Swedish', 'F', Decimal('0.3'))\n",
      "('Europe', 'Denmark', 'DNK', 'Turkish', 'F', Decimal('0.8'))\n",
      "('North America', 'Dominican Republic', 'DOM', 'Creole French', 'F', Decimal('2.0'))\n",
      "('North America', 'Dominican Republic', 'DOM', 'Spanish', 'T', Decimal('98.0'))\n",
      "('Africa', 'Algeria', 'DZA', 'Arabic', 'T', Decimal('86.0'))\n",
      "('Africa', 'Algeria', 'DZA', 'Berberi', 'F', Decimal('14.0'))\n",
      "('South America', 'Ecuador', 'ECU', 'Ketšua', 'F', Decimal('7.0'))\n",
      "('South America', 'Ecuador', 'ECU', 'Spanish', 'T', Decimal('93.0'))\n",
      "('Africa', 'Egypt', 'EGY', 'Arabic', 'T', Decimal('98.8'))\n",
      "('Africa', 'Egypt', 'EGY', 'Sinaberberi', 'F', Decimal('0.0'))\n",
      "('Africa', 'Eritrea', 'ERI', 'Afar', 'F', Decimal('4.3'))\n",
      "('Africa', 'Eritrea', 'ERI', 'Bilin', 'F', Decimal('3.0'))\n",
      "('Africa', 'Eritrea', 'ERI', 'Hadareb', 'F', Decimal('3.8'))\n",
      "('Africa', 'Eritrea', 'ERI', 'Saho', 'F', Decimal('3.0'))\n",
      "('Africa', 'Eritrea', 'ERI', 'Tigre', 'F', Decimal('31.7'))\n",
      "('Africa', 'Eritrea', 'ERI', 'Tigrinja', 'T', Decimal('49.1'))\n",
      "('Africa', 'Western Sahara', 'ESH', 'Arabic', 'T', Decimal('100.0'))\n",
      "('Europe', 'Spain', 'ESP', 'Basque', 'F', Decimal('1.6'))\n",
      "('Europe', 'Spain', 'ESP', 'Catalan', 'F', Decimal('16.9'))\n",
      "('Europe', 'Spain', 'ESP', 'Galecian', 'F', Decimal('6.4'))\n",
      "('Europe', 'Spain', 'ESP', 'Spanish', 'T', Decimal('74.4'))\n",
      "('Europe', 'Estonia', 'EST', 'Belorussian', 'F', Decimal('1.4'))\n",
      "('Europe', 'Estonia', 'EST', 'Estonian', 'T', Decimal('65.3'))\n",
      "('Europe', 'Estonia', 'EST', 'Finnish', 'F', Decimal('0.7'))\n",
      "('Europe', 'Estonia', 'EST', 'Russian', 'F', Decimal('27.8'))\n",
      "('Europe', 'Estonia', 'EST', 'Ukrainian', 'F', Decimal('2.8'))\n",
      "('Africa', 'Ethiopia', 'ETH', 'Amhara', 'F', Decimal('30.0'))\n",
      "('Africa', 'Ethiopia', 'ETH', 'Gurage', 'F', Decimal('4.7'))\n",
      "('Africa', 'Ethiopia', 'ETH', 'Oromo', 'F', Decimal('31.0'))\n",
      "('Africa', 'Ethiopia', 'ETH', 'Sidamo', 'F', Decimal('3.2'))\n",
      "('Africa', 'Ethiopia', 'ETH', 'Somali', 'F', Decimal('4.1'))\n",
      "('Africa', 'Ethiopia', 'ETH', 'Tigrinja', 'F', Decimal('7.2'))\n",
      "('Africa', 'Ethiopia', 'ETH', 'Walaita', 'F', Decimal('2.8'))\n",
      "('Europe', 'Finland', 'FIN', 'Estonian', 'F', Decimal('0.2'))\n",
      "('Europe', 'Finland', 'FIN', 'Finnish', 'T', Decimal('92.7'))\n",
      "('Europe', 'Finland', 'FIN', 'Russian', 'F', Decimal('0.4'))\n",
      "('Europe', 'Finland', 'FIN', 'Saame', 'F', Decimal('0.0'))\n",
      "('Europe', 'Finland', 'FIN', 'Swedish', 'T', Decimal('5.7'))\n",
      "('Oceania', 'Fiji Islands', 'FJI', 'Fijian', 'T', Decimal('50.8'))\n",
      "('Oceania', 'Fiji Islands', 'FJI', 'Hindi', 'F', Decimal('43.7'))\n",
      "('South America', 'Falkland Islands', 'FLK', 'English', 'T', Decimal('0.0'))\n",
      "('Europe', 'France', 'FRA', 'Arabic', 'F', Decimal('2.5'))\n",
      "('Europe', 'France', 'FRA', 'French', 'T', Decimal('93.6'))\n",
      "('Europe', 'France', 'FRA', 'Italian', 'F', Decimal('0.4'))\n",
      "('Europe', 'France', 'FRA', 'Portuguese', 'F', Decimal('1.2'))\n",
      "('Europe', 'France', 'FRA', 'Spanish', 'F', Decimal('0.4'))\n",
      "('Europe', 'France', 'FRA', 'Turkish', 'F', Decimal('0.4'))\n",
      "('Europe', 'Faroe Islands', 'FRO', 'Danish', 'T', Decimal('0.0'))\n",
      "('Europe', 'Faroe Islands', 'FRO', 'Faroese', 'T', Decimal('100.0'))\n",
      "('Oceania', 'Micronesia, Federated States of', 'FSM', 'Kosrean', 'F', Decimal('7.3'))\n",
      "('Oceania', 'Micronesia, Federated States of', 'FSM', 'Mortlock', 'F', Decimal('7.6'))\n",
      "('Oceania', 'Micronesia, Federated States of', 'FSM', 'Pohnpei', 'F', Decimal('23.8'))\n",
      "('Oceania', 'Micronesia, Federated States of', 'FSM', 'Trukese', 'F', Decimal('41.6'))\n",
      "('Oceania', 'Micronesia, Federated States of', 'FSM', 'Wolea', 'F', Decimal('3.7'))\n",
      "('Oceania', 'Micronesia, Federated States of', 'FSM', 'Yap', 'F', Decimal('5.8'))\n",
      "('Africa', 'Gabon', 'GAB', 'Fang', 'F', Decimal('35.8'))\n",
      "('Africa', 'Gabon', 'GAB', 'Mbete', 'F', Decimal('13.8'))\n",
      "('Africa', 'Gabon', 'GAB', 'Mpongwe', 'F', Decimal('14.6'))\n",
      "('Africa', 'Gabon', 'GAB', 'Punu-sira-nzebi', 'F', Decimal('17.1'))\n",
      "('Europe', 'United Kingdom', 'GBR', 'English', 'T', Decimal('97.3'))\n",
      "('Europe', 'United Kingdom', 'GBR', 'Gaeli', 'F', Decimal('0.1'))\n",
      "('Europe', 'United Kingdom', 'GBR', 'Kymri', 'F', Decimal('0.9'))\n",
      "('Asia', 'Georgia', 'GEO', 'Abhyasi', 'F', Decimal('1.7'))\n",
      "('Asia', 'Georgia', 'GEO', 'Armenian', 'F', Decimal('6.8'))\n",
      "('Asia', 'Georgia', 'GEO', 'Azerbaijani', 'F', Decimal('5.5'))\n",
      "('Asia', 'Georgia', 'GEO', 'Georgiana', 'T', Decimal('71.7'))\n",
      "('Asia', 'Georgia', 'GEO', 'Osseetti', 'F', Decimal('2.4'))\n",
      "('Asia', 'Georgia', 'GEO', 'Russian', 'F', Decimal('8.8'))\n",
      "('Africa', 'Ghana', 'GHA', 'Akan', 'F', Decimal('52.4'))\n",
      "('Africa', 'Ghana', 'GHA', 'Ewe', 'F', Decimal('11.9'))\n",
      "('Africa', 'Ghana', 'GHA', 'Ga-adangme', 'F', Decimal('7.8'))\n",
      "('Africa', 'Ghana', 'GHA', 'Gurma', 'F', Decimal('3.3'))\n",
      "('Africa', 'Ghana', 'GHA', 'Joruba', 'F', Decimal('1.3'))\n",
      "('Africa', 'Ghana', 'GHA', 'Mossi', 'F', Decimal('15.8'))\n",
      "('Europe', 'Gibraltar', 'GIB', 'Arabic', 'F', Decimal('7.4'))\n",
      "('Europe', 'Gibraltar', 'GIB', 'English', 'T', Decimal('88.9'))\n",
      "('Africa', 'Guinea', 'GIN', 'Ful', 'F', Decimal('38.6'))\n",
      "('Africa', 'Guinea', 'GIN', 'Kissi', 'F', Decimal('6.0'))\n",
      "('Africa', 'Guinea', 'GIN', 'Kpelle', 'F', Decimal('4.6'))\n",
      "('Africa', 'Guinea', 'GIN', 'Loma', 'F', Decimal('2.3'))\n",
      "('Africa', 'Guinea', 'GIN', 'Malinke', 'F', Decimal('23.2'))\n",
      "('Africa', 'Guinea', 'GIN', 'Susu', 'F', Decimal('11.0'))\n",
      "('Africa', 'Guinea', 'GIN', 'Yalunka', 'F', Decimal('2.9'))\n",
      "('North America', 'Guadeloupe', 'GLP', 'Creole French', 'F', Decimal('95.0'))\n",
      "('North America', 'Guadeloupe', 'GLP', 'French', 'T', Decimal('0.0'))\n",
      "('Africa', 'Gambia', 'GMB', 'Diola', 'F', Decimal('9.2'))\n",
      "('Africa', 'Gambia', 'GMB', 'Ful', 'F', Decimal('16.2'))\n",
      "('Africa', 'Gambia', 'GMB', 'Malinke', 'F', Decimal('34.1'))\n",
      "('Africa', 'Gambia', 'GMB', 'Soninke', 'F', Decimal('7.6'))\n",
      "('Africa', 'Gambia', 'GMB', 'Wolof', 'F', Decimal('12.6'))\n",
      "('Africa', 'Guinea-Bissau', 'GNB', 'Balante', 'F', Decimal('14.6'))\n",
      "('Africa', 'Guinea-Bissau', 'GNB', 'Crioulo', 'F', Decimal('36.4'))\n",
      "('Africa', 'Guinea-Bissau', 'GNB', 'Ful', 'F', Decimal('16.6'))\n",
      "('Africa', 'Guinea-Bissau', 'GNB', 'Malinke', 'F', Decimal('6.9'))\n",
      "('Africa', 'Guinea-Bissau', 'GNB', 'Mandyako', 'F', Decimal('4.9'))\n",
      "('Africa', 'Guinea-Bissau', 'GNB', 'Portuguese', 'T', Decimal('8.1'))\n",
      "('Africa', 'Equatorial Guinea', 'GNQ', 'Bubi', 'F', Decimal('8.7'))\n",
      "('Africa', 'Equatorial Guinea', 'GNQ', 'Fang', 'F', Decimal('84.8'))\n",
      "('Europe', 'Greece', 'GRC', 'Greek', 'T', Decimal('98.5'))\n",
      "('Europe', 'Greece', 'GRC', 'Turkish', 'F', Decimal('0.9'))\n",
      "('North America', 'Grenada', 'GRD', 'Creole English', 'F', Decimal('100.0'))\n",
      "('North America', 'Greenland', 'GRL', 'Danish', 'T', Decimal('12.5'))\n",
      "('North America', 'Greenland', 'GRL', 'Greenlandic', 'T', Decimal('87.5'))\n",
      "('North America', 'Guatemala', 'GTM', 'Cakchiquel', 'F', Decimal('8.9'))\n",
      "('North America', 'Guatemala', 'GTM', 'Kekchí', 'F', Decimal('4.9'))\n",
      "('North America', 'Guatemala', 'GTM', 'Mam', 'F', Decimal('2.7'))\n",
      "('North America', 'Guatemala', 'GTM', 'Quiché', 'F', Decimal('10.1'))\n",
      "('North America', 'Guatemala', 'GTM', 'Spanish', 'T', Decimal('64.7'))\n",
      "('South America', 'French Guiana', 'GUF', 'Creole French', 'F', Decimal('94.3'))\n",
      "('South America', 'French Guiana', 'GUF', 'Indian Languages', 'F', Decimal('1.9'))\n",
      "('Oceania', 'Guam', 'GUM', 'Chamorro', 'T', Decimal('29.6'))\n",
      "('Oceania', 'Guam', 'GUM', 'English', 'T', Decimal('37.5'))\n",
      "('Oceania', 'Guam', 'GUM', 'Japanese', 'F', Decimal('2.0'))\n",
      "('Oceania', 'Guam', 'GUM', 'Korean', 'F', Decimal('3.3'))\n",
      "('Oceania', 'Guam', 'GUM', 'Philippene Languages', 'F', Decimal('19.7'))\n",
      "('South America', 'Guyana', 'GUY', 'Arawakan', 'F', Decimal('1.4'))\n",
      "('South America', 'Guyana', 'GUY', 'Caribbean', 'F', Decimal('2.2'))\n",
      "('South America', 'Guyana', 'GUY', 'Creole English', 'F', Decimal('96.4'))\n",
      "('Asia', 'Hong Kong', 'HKG', 'Canton Chinese', 'F', Decimal('88.7'))\n",
      "('Asia', 'Hong Kong', 'HKG', 'Chiu chau', 'F', Decimal('1.4'))\n",
      "('Asia', 'Hong Kong', 'HKG', 'English', 'T', Decimal('2.2'))\n",
      "('Asia', 'Hong Kong', 'HKG', 'Fukien', 'F', Decimal('1.9'))\n",
      "('Asia', 'Hong Kong', 'HKG', 'Hakka', 'F', Decimal('1.6'))\n",
      "('North America', 'Honduras', 'HND', 'Creole English', 'F', Decimal('0.2'))\n",
      "('North America', 'Honduras', 'HND', 'Garifuna', 'F', Decimal('1.3'))\n",
      "('North America', 'Honduras', 'HND', 'Miskito', 'F', Decimal('0.2'))\n",
      "('North America', 'Honduras', 'HND', 'Spanish', 'T', Decimal('97.2'))\n",
      "('Europe', 'Croatia', 'HRV', 'Serbo-Croatian', 'T', Decimal('95.9'))\n",
      "('Europe', 'Croatia', 'HRV', 'Slovene', 'F', Decimal('0.0'))\n",
      "('North America', 'Haiti', 'HTI', 'French', 'T', Decimal('0.0'))\n",
      "('North America', 'Haiti', 'HTI', 'Haiti Creole', 'F', Decimal('100.0'))\n",
      "('Europe', 'Hungary', 'HUN', 'German', 'F', Decimal('0.4'))\n",
      "('Europe', 'Hungary', 'HUN', 'Hungarian', 'T', Decimal('98.5'))\n",
      "('Europe', 'Hungary', 'HUN', 'Romani', 'F', Decimal('0.5'))\n",
      "('Europe', 'Hungary', 'HUN', 'Romanian', 'F', Decimal('0.1'))\n",
      "('Europe', 'Hungary', 'HUN', 'Serbo-Croatian', 'F', Decimal('0.2'))\n",
      "('Europe', 'Hungary', 'HUN', 'Slovak', 'F', Decimal('0.1'))\n",
      "('Asia', 'Indonesia', 'IDN', 'Bali', 'F', Decimal('1.7'))\n",
      "('Asia', 'Indonesia', 'IDN', 'Banja', 'F', Decimal('1.8'))\n",
      "('Asia', 'Indonesia', 'IDN', 'Batakki', 'F', Decimal('2.2'))\n",
      "('Asia', 'Indonesia', 'IDN', 'Bugi', 'F', Decimal('2.2'))\n",
      "('Asia', 'Indonesia', 'IDN', 'Javanese', 'F', Decimal('39.4'))\n",
      "('Asia', 'Indonesia', 'IDN', 'Madura', 'F', Decimal('4.3'))\n",
      "('Asia', 'Indonesia', 'IDN', 'Malay', 'T', Decimal('12.1'))\n",
      "('Asia', 'Indonesia', 'IDN', 'Minangkabau', 'F', Decimal('2.4'))\n",
      "('Asia', 'Indonesia', 'IDN', 'Sunda', 'F', Decimal('15.8'))\n",
      "('Asia', 'India', 'IND', 'Asami', 'F', Decimal('1.5'))\n",
      "('Asia', 'India', 'IND', 'Bengali', 'F', Decimal('8.2'))\n",
      "('Asia', 'India', 'IND', 'Gujarati', 'F', Decimal('4.8'))\n",
      "('Asia', 'India', 'IND', 'Hindi', 'T', Decimal('39.9'))\n",
      "('Asia', 'India', 'IND', 'Kannada', 'F', Decimal('3.9'))\n",
      "('Asia', 'India', 'IND', 'Malajalam', 'F', Decimal('3.6'))\n",
      "('Asia', 'India', 'IND', 'Marathi', 'F', Decimal('7.4'))\n",
      "('Asia', 'India', 'IND', 'Orija', 'F', Decimal('3.3'))\n",
      "('Asia', 'India', 'IND', 'Punjabi', 'F', Decimal('2.8'))\n",
      "('Asia', 'India', 'IND', 'Tamil', 'F', Decimal('6.3'))\n",
      "('Asia', 'India', 'IND', 'Telugu', 'F', Decimal('7.8'))\n",
      "('Asia', 'India', 'IND', 'Urdu', 'F', Decimal('5.1'))\n",
      "('Europe', 'Ireland', 'IRL', 'English', 'T', Decimal('98.4'))\n",
      "('Europe', 'Ireland', 'IRL', 'Irish', 'T', Decimal('1.6'))\n",
      "('Asia', 'Iran', 'IRN', 'Arabic', 'F', Decimal('2.2'))\n",
      "('Asia', 'Iran', 'IRN', 'Azerbaijani', 'F', Decimal('16.8'))\n",
      "('Asia', 'Iran', 'IRN', 'Bakhtyari', 'F', Decimal('1.7'))\n",
      "('Asia', 'Iran', 'IRN', 'Balochi', 'F', Decimal('2.3'))\n",
      "('Asia', 'Iran', 'IRN', 'Gilaki', 'F', Decimal('5.3'))\n",
      "('Asia', 'Iran', 'IRN', 'Kurdish', 'F', Decimal('9.1'))\n",
      "('Asia', 'Iran', 'IRN', 'Luri', 'F', Decimal('4.3'))\n",
      "('Asia', 'Iran', 'IRN', 'Mazandarani', 'F', Decimal('3.6'))\n",
      "('Asia', 'Iran', 'IRN', 'Persian', 'T', Decimal('45.7'))\n",
      "('Asia', 'Iran', 'IRN', 'Turkmenian', 'F', Decimal('1.6'))\n",
      "('Asia', 'Iraq', 'IRQ', 'Arabic', 'T', Decimal('77.2'))\n",
      "('Asia', 'Iraq', 'IRQ', 'Assyrian', 'F', Decimal('0.8'))\n",
      "('Asia', 'Iraq', 'IRQ', 'Azerbaijani', 'F', Decimal('1.7'))\n",
      "('Asia', 'Iraq', 'IRQ', 'Kurdish', 'F', Decimal('19.0'))\n",
      "('Asia', 'Iraq', 'IRQ', 'Persian', 'F', Decimal('0.8'))\n",
      "('Europe', 'Iceland', 'ISL', 'English', 'F', Decimal('0.0'))\n",
      "('Europe', 'Iceland', 'ISL', 'Icelandic', 'T', Decimal('95.7'))\n",
      "('Asia', 'Israel', 'ISR', 'Arabic', 'T', Decimal('18.0'))\n",
      "('Asia', 'Israel', 'ISR', 'Hebrew', 'T', Decimal('63.1'))\n",
      "('Asia', 'Israel', 'ISR', 'Russian', 'F', Decimal('8.9'))\n",
      "('Europe', 'Italy', 'ITA', 'Albaniana', 'F', Decimal('0.2'))\n",
      "('Europe', 'Italy', 'ITA', 'French', 'F', Decimal('0.5'))\n",
      "('Europe', 'Italy', 'ITA', 'Friuli', 'F', Decimal('1.2'))\n",
      "('Europe', 'Italy', 'ITA', 'German', 'F', Decimal('0.5'))\n",
      "('Europe', 'Italy', 'ITA', 'Italian', 'T', Decimal('94.1'))\n",
      "('Europe', 'Italy', 'ITA', 'Romani', 'F', Decimal('0.2'))\n",
      "('Europe', 'Italy', 'ITA', 'Sardinian', 'F', Decimal('2.7'))\n",
      "('Europe', 'Italy', 'ITA', 'Slovene', 'F', Decimal('0.2'))\n",
      "('North America', 'Jamaica', 'JAM', 'Creole English', 'F', Decimal('94.2'))\n",
      "('North America', 'Jamaica', 'JAM', 'Hindi', 'F', Decimal('1.9'))\n",
      "('Asia', 'Jordan', 'JOR', 'Arabic', 'T', Decimal('97.9'))\n",
      "('Asia', 'Jordan', 'JOR', 'Armenian', 'F', Decimal('1.0'))\n",
      "('Asia', 'Jordan', 'JOR', 'Circassian', 'F', Decimal('1.0'))\n",
      "('Asia', 'Japan', 'JPN', 'Ainu', 'F', Decimal('0.0'))\n",
      "('Asia', 'Japan', 'JPN', 'Chinese', 'F', Decimal('0.2'))\n",
      "('Asia', 'Japan', 'JPN', 'English', 'F', Decimal('0.1'))\n",
      "('Asia', 'Japan', 'JPN', 'Japanese', 'T', Decimal('99.1'))\n",
      "('Asia', 'Japan', 'JPN', 'Korean', 'F', Decimal('0.5'))\n",
      "('Asia', 'Japan', 'JPN', 'Philippene Languages', 'F', Decimal('0.1'))\n",
      "('Asia', 'Kazakstan', 'KAZ', 'German', 'F', Decimal('3.1'))\n",
      "('Asia', 'Kazakstan', 'KAZ', 'Kazakh', 'T', Decimal('46.0'))\n",
      "('Asia', 'Kazakstan', 'KAZ', 'Russian', 'F', Decimal('34.7'))\n",
      "('Asia', 'Kazakstan', 'KAZ', 'Tatar', 'F', Decimal('2.0'))\n",
      "('Asia', 'Kazakstan', 'KAZ', 'Ukrainian', 'F', Decimal('5.0'))\n",
      "('Asia', 'Kazakstan', 'KAZ', 'Uzbek', 'F', Decimal('2.3'))\n",
      "('Africa', 'Kenya', 'KEN', 'Gusii', 'F', Decimal('6.1'))\n",
      "('Africa', 'Kenya', 'KEN', 'Kalenjin', 'F', Decimal('10.8'))\n",
      "('Africa', 'Kenya', 'KEN', 'Kamba', 'F', Decimal('11.2'))\n",
      "('Africa', 'Kenya', 'KEN', 'Kikuyu', 'F', Decimal('20.9'))\n",
      "('Africa', 'Kenya', 'KEN', 'Luhya', 'F', Decimal('13.8'))\n",
      "('Africa', 'Kenya', 'KEN', 'Luo', 'F', Decimal('12.8'))\n",
      "('Africa', 'Kenya', 'KEN', 'Masai', 'F', Decimal('1.6'))\n",
      "('Africa', 'Kenya', 'KEN', 'Meru', 'F', Decimal('5.5'))\n",
      "('Africa', 'Kenya', 'KEN', 'Nyika', 'F', Decimal('4.8'))\n",
      "('Africa', 'Kenya', 'KEN', 'Turkana', 'F', Decimal('1.4'))\n",
      "('Asia', 'Kyrgyzstan', 'KGZ', 'Kazakh', 'F', Decimal('0.8'))\n",
      "('Asia', 'Kyrgyzstan', 'KGZ', 'Kirgiz', 'T', Decimal('59.7'))\n",
      "('Asia', 'Kyrgyzstan', 'KGZ', 'Russian', 'T', Decimal('16.2'))\n",
      "('Asia', 'Kyrgyzstan', 'KGZ', 'Tadzhik', 'F', Decimal('0.8'))\n",
      "('Asia', 'Kyrgyzstan', 'KGZ', 'Tatar', 'F', Decimal('1.3'))\n",
      "('Asia', 'Kyrgyzstan', 'KGZ', 'Ukrainian', 'F', Decimal('1.7'))\n",
      "('Asia', 'Kyrgyzstan', 'KGZ', 'Uzbek', 'F', Decimal('14.1'))\n",
      "('Asia', 'Cambodia', 'KHM', 'Chinese', 'F', Decimal('3.1'))\n",
      "('Asia', 'Cambodia', 'KHM', 'Khmer', 'T', Decimal('88.6'))\n",
      "('Asia', 'Cambodia', 'KHM', 'Tšam', 'F', Decimal('2.4'))\n",
      "('Asia', 'Cambodia', 'KHM', 'Vietnamese', 'F', Decimal('5.5'))\n",
      "('Oceania', 'Kiribati', 'KIR', 'Kiribati', 'T', Decimal('98.9'))\n",
      "('Oceania', 'Kiribati', 'KIR', 'Tuvalu', 'F', Decimal('0.5'))\n",
      "('North America', 'Saint Kitts and Nevis', 'KNA', 'Creole English', 'F', Decimal('100.0'))\n",
      "('North America', 'Saint Kitts and Nevis', 'KNA', 'English', 'T', Decimal('0.0'))\n",
      "('Asia', 'South Korea', 'KOR', 'Chinese', 'F', Decimal('0.1'))\n",
      "('Asia', 'South Korea', 'KOR', 'Korean', 'T', Decimal('99.9'))\n",
      "('Asia', 'Kuwait', 'KWT', 'Arabic', 'T', Decimal('78.1'))\n",
      "('Asia', 'Kuwait', 'KWT', 'English', 'F', Decimal('0.0'))\n",
      "('Asia', 'Laos', 'LAO', 'Lao', 'T', Decimal('67.2'))\n",
      "('Asia', 'Laos', 'LAO', 'Lao-Soung', 'F', Decimal('5.2'))\n",
      "('Asia', 'Laos', 'LAO', 'Mon-khmer', 'F', Decimal('16.5'))\n",
      "('Asia', 'Laos', 'LAO', 'Thai', 'F', Decimal('7.8'))\n",
      "('Asia', 'Lebanon', 'LBN', 'Arabic', 'T', Decimal('93.0'))\n",
      "('Asia', 'Lebanon', 'LBN', 'Armenian', 'F', Decimal('5.9'))\n",
      "('Asia', 'Lebanon', 'LBN', 'French', 'F', Decimal('0.0'))\n",
      "('Africa', 'Liberia', 'LBR', 'Bassa', 'F', Decimal('13.7'))\n",
      "('Africa', 'Liberia', 'LBR', 'Gio', 'F', Decimal('7.9'))\n",
      "('Africa', 'Liberia', 'LBR', 'Grebo', 'F', Decimal('8.9'))\n",
      "('Africa', 'Liberia', 'LBR', 'Kpelle', 'F', Decimal('19.5'))\n",
      "('Africa', 'Liberia', 'LBR', 'Kru', 'F', Decimal('7.2'))\n",
      "('Africa', 'Liberia', 'LBR', 'Loma', 'F', Decimal('5.8'))\n",
      "('Africa', 'Liberia', 'LBR', 'Malinke', 'F', Decimal('5.1'))\n",
      "('Africa', 'Liberia', 'LBR', 'Mano', 'F', Decimal('7.2'))\n",
      "('Africa', 'Libyan Arab Jamahiriya', 'LBY', 'Arabic', 'T', Decimal('96.0'))\n",
      "('Africa', 'Libyan Arab Jamahiriya', 'LBY', 'Berberi', 'F', Decimal('1.0'))\n",
      "('North America', 'Saint Lucia', 'LCA', 'Creole French', 'F', Decimal('80.0'))\n",
      "('North America', 'Saint Lucia', 'LCA', 'English', 'T', Decimal('20.0'))\n",
      "('Europe', 'Liechtenstein', 'LIE', 'German', 'T', Decimal('89.0'))\n",
      "('Europe', 'Liechtenstein', 'LIE', 'Italian', 'F', Decimal('2.5'))\n",
      "('Europe', 'Liechtenstein', 'LIE', 'Turkish', 'F', Decimal('2.5'))\n",
      "('Asia', 'Sri Lanka', 'LKA', 'Mixed Languages', 'F', Decimal('19.6'))\n",
      "('Asia', 'Sri Lanka', 'LKA', 'Singali', 'T', Decimal('60.3'))\n",
      "('Asia', 'Sri Lanka', 'LKA', 'Tamil', 'T', Decimal('19.6'))\n",
      "('Africa', 'Lesotho', 'LSO', 'English', 'T', Decimal('0.0'))\n",
      "('Africa', 'Lesotho', 'LSO', 'Sotho', 'T', Decimal('85.0'))\n",
      "('Africa', 'Lesotho', 'LSO', 'Zulu', 'F', Decimal('15.0'))\n",
      "('Europe', 'Lithuania', 'LTU', 'Belorussian', 'F', Decimal('1.4'))\n",
      "('Europe', 'Lithuania', 'LTU', 'Lithuanian', 'T', Decimal('81.6'))\n",
      "('Europe', 'Lithuania', 'LTU', 'Polish', 'F', Decimal('7.0'))\n",
      "('Europe', 'Lithuania', 'LTU', 'Russian', 'F', Decimal('8.1'))\n",
      "('Europe', 'Lithuania', 'LTU', 'Ukrainian', 'F', Decimal('1.1'))\n",
      "('Europe', 'Luxembourg', 'LUX', 'French', 'T', Decimal('4.2'))\n",
      "('Europe', 'Luxembourg', 'LUX', 'German', 'T', Decimal('2.3'))\n",
      "('Europe', 'Luxembourg', 'LUX', 'Italian', 'F', Decimal('4.6'))\n",
      "('Europe', 'Luxembourg', 'LUX', 'Luxembourgish', 'T', Decimal('64.4'))\n",
      "('Europe', 'Luxembourg', 'LUX', 'Portuguese', 'F', Decimal('13.0'))\n",
      "('Europe', 'Latvia', 'LVA', 'Belorussian', 'F', Decimal('4.1'))\n",
      "('Europe', 'Latvia', 'LVA', 'Latvian', 'T', Decimal('55.1'))\n",
      "('Europe', 'Latvia', 'LVA', 'Lithuanian', 'F', Decimal('1.2'))\n",
      "('Europe', 'Latvia', 'LVA', 'Polish', 'F', Decimal('2.1'))\n",
      "('Europe', 'Latvia', 'LVA', 'Russian', 'F', Decimal('32.5'))\n",
      "('Europe', 'Latvia', 'LVA', 'Ukrainian', 'F', Decimal('2.9'))\n",
      "('Asia', 'Macao', 'MAC', 'Canton Chinese', 'F', Decimal('85.6'))\n",
      "('Asia', 'Macao', 'MAC', 'English', 'F', Decimal('0.5'))\n",
      "('Asia', 'Macao', 'MAC', 'Mandarin Chinese', 'F', Decimal('1.2'))\n",
      "('Asia', 'Macao', 'MAC', 'Portuguese', 'T', Decimal('2.3'))\n",
      "('Africa', 'Morocco', 'MAR', 'Arabic', 'T', Decimal('65.0'))\n",
      "('Africa', 'Morocco', 'MAR', 'Berberi', 'F', Decimal('33.0'))\n",
      "('Europe', 'Monaco', 'MCO', 'English', 'F', Decimal('6.5'))\n",
      "('Europe', 'Monaco', 'MCO', 'French', 'T', Decimal('41.9'))\n",
      "('Europe', 'Monaco', 'MCO', 'Italian', 'F', Decimal('16.1'))\n",
      "('Europe', 'Monaco', 'MCO', 'Monegasque', 'F', Decimal('16.1'))\n",
      "('Europe', 'Moldova', 'MDA', 'Bulgariana', 'F', Decimal('1.6'))\n",
      "('Europe', 'Moldova', 'MDA', 'Gagauzi', 'F', Decimal('3.2'))\n",
      "('Europe', 'Moldova', 'MDA', 'Romanian', 'T', Decimal('61.9'))\n",
      "('Europe', 'Moldova', 'MDA', 'Russian', 'F', Decimal('23.2'))\n",
      "('Europe', 'Moldova', 'MDA', 'Ukrainian', 'F', Decimal('8.6'))\n",
      "('Africa', 'Madagascar', 'MDG', 'French', 'T', Decimal('0.0'))\n",
      "('Africa', 'Madagascar', 'MDG', 'Malagasy', 'T', Decimal('98.9'))\n",
      "('Asia', 'Maldives', 'MDV', 'Dhivehi', 'T', Decimal('100.0'))\n",
      "('Asia', 'Maldives', 'MDV', 'English', 'F', Decimal('0.0'))\n",
      "('North America', 'Mexico', 'MEX', 'Mixtec', 'F', Decimal('0.6'))\n",
      "('North America', 'Mexico', 'MEX', 'Náhuatl', 'F', Decimal('1.8'))\n",
      "('North America', 'Mexico', 'MEX', 'Otomí', 'F', Decimal('0.4'))\n",
      "('North America', 'Mexico', 'MEX', 'Spanish', 'T', Decimal('92.1'))\n",
      "('North America', 'Mexico', 'MEX', 'Yucatec', 'F', Decimal('1.1'))\n",
      "('North America', 'Mexico', 'MEX', 'Zapotec', 'F', Decimal('0.6'))\n",
      "('Oceania', 'Marshall Islands', 'MHL', 'English', 'T', Decimal('0.0'))\n",
      "('Oceania', 'Marshall Islands', 'MHL', 'Marshallese', 'T', Decimal('96.8'))\n",
      "('Europe', 'Macedonia', 'MKD', 'Albaniana', 'F', Decimal('22.9'))\n",
      "('Europe', 'Macedonia', 'MKD', 'Macedonian', 'T', Decimal('66.5'))\n",
      "('Europe', 'Macedonia', 'MKD', 'Romani', 'F', Decimal('2.3'))\n",
      "('Europe', 'Macedonia', 'MKD', 'Serbo-Croatian', 'F', Decimal('2.0'))\n",
      "('Europe', 'Macedonia', 'MKD', 'Turkish', 'F', Decimal('4.0'))\n",
      "('Africa', 'Mali', 'MLI', 'Bambara', 'F', Decimal('31.8'))\n",
      "('Africa', 'Mali', 'MLI', 'Ful', 'F', Decimal('13.9'))\n",
      "('Africa', 'Mali', 'MLI', 'Senufo and Minianka', 'F', Decimal('12.0'))\n",
      "('Africa', 'Mali', 'MLI', 'Songhai', 'F', Decimal('6.9'))\n",
      "('Africa', 'Mali', 'MLI', 'Soninke', 'F', Decimal('8.7'))\n",
      "('Africa', 'Mali', 'MLI', 'Tamashek', 'F', Decimal('7.3'))\n",
      "('Europe', 'Malta', 'MLT', 'English', 'T', Decimal('2.1'))\n",
      "('Europe', 'Malta', 'MLT', 'Maltese', 'T', Decimal('95.8'))\n",
      "('Asia', 'Myanmar', 'MMR', 'Burmese', 'T', Decimal('69.0'))\n",
      "('Asia', 'Myanmar', 'MMR', 'Chin', 'F', Decimal('2.2'))\n",
      "('Asia', 'Myanmar', 'MMR', 'Kachin', 'F', Decimal('1.4'))\n",
      "('Asia', 'Myanmar', 'MMR', 'Karen', 'F', Decimal('6.2'))\n",
      "('Asia', 'Myanmar', 'MMR', 'Kayah', 'F', Decimal('0.4'))\n",
      "('Asia', 'Myanmar', 'MMR', 'Mon', 'F', Decimal('2.4'))\n",
      "('Asia', 'Myanmar', 'MMR', 'Rakhine', 'F', Decimal('4.5'))\n",
      "('Asia', 'Myanmar', 'MMR', 'Shan', 'F', Decimal('8.5'))\n",
      "('Asia', 'Mongolia', 'MNG', 'Bajad', 'F', Decimal('1.9'))\n",
      "('Asia', 'Mongolia', 'MNG', 'Buryat', 'F', Decimal('1.7'))\n",
      "('Asia', 'Mongolia', 'MNG', 'Dariganga', 'F', Decimal('1.4'))\n",
      "('Asia', 'Mongolia', 'MNG', 'Dorbet', 'F', Decimal('2.7'))\n",
      "('Asia', 'Mongolia', 'MNG', 'Kazakh', 'F', Decimal('5.9'))\n",
      "('Asia', 'Mongolia', 'MNG', 'Mongolian', 'T', Decimal('78.8'))\n",
      "('Oceania', 'Northern Mariana Islands', 'MNP', 'Carolinian', 'F', Decimal('4.8'))\n",
      "('Oceania', 'Northern Mariana Islands', 'MNP', 'Chamorro', 'F', Decimal('30.0'))\n",
      "('Oceania', 'Northern Mariana Islands', 'MNP', 'Chinese', 'F', Decimal('7.1'))\n",
      "('Oceania', 'Northern Mariana Islands', 'MNP', 'English', 'T', Decimal('4.8'))\n",
      "('Oceania', 'Northern Mariana Islands', 'MNP', 'Korean', 'F', Decimal('6.5'))\n",
      "('Oceania', 'Northern Mariana Islands', 'MNP', 'Philippene Languages', 'F', Decimal('34.1'))\n",
      "('Africa', 'Mozambique', 'MOZ', 'Chuabo', 'F', Decimal('5.7'))\n",
      "('Africa', 'Mozambique', 'MOZ', 'Lomwe', 'F', Decimal('7.8'))\n",
      "('Africa', 'Mozambique', 'MOZ', 'Makua', 'F', Decimal('27.8'))\n",
      "('Africa', 'Mozambique', 'MOZ', 'Marendje', 'F', Decimal('3.5'))\n",
      "('Africa', 'Mozambique', 'MOZ', 'Nyanja', 'F', Decimal('3.3'))\n",
      "('Africa', 'Mozambique', 'MOZ', 'Ronga', 'F', Decimal('3.7'))\n",
      "('Africa', 'Mozambique', 'MOZ', 'Sena', 'F', Decimal('9.4'))\n",
      "('Africa', 'Mozambique', 'MOZ', 'Shona', 'F', Decimal('6.5'))\n",
      "('Africa', 'Mozambique', 'MOZ', 'Tsonga', 'F', Decimal('12.4'))\n",
      "('Africa', 'Mozambique', 'MOZ', 'Tswa', 'F', Decimal('6.0'))\n",
      "('Africa', 'Mauritania', 'MRT', 'Ful', 'F', Decimal('1.2'))\n",
      "('Africa', 'Mauritania', 'MRT', 'Hassaniya', 'F', Decimal('81.7'))\n",
      "('Africa', 'Mauritania', 'MRT', 'Soninke', 'F', Decimal('2.7'))\n",
      "('Africa', 'Mauritania', 'MRT', 'Tukulor', 'F', Decimal('5.4'))\n",
      "('Africa', 'Mauritania', 'MRT', 'Wolof', 'F', Decimal('6.6'))\n",
      "('Africa', 'Mauritania', 'MRT', 'Zenaga', 'F', Decimal('1.2'))\n",
      "('North America', 'Montserrat', 'MSR', 'English', 'T', Decimal('0.0'))\n",
      "('North America', 'Martinique', 'MTQ', 'Creole French', 'F', Decimal('96.6'))\n",
      "('North America', 'Martinique', 'MTQ', 'French', 'T', Decimal('0.0'))\n",
      "('Africa', 'Mauritius', 'MUS', 'Bhojpuri', 'F', Decimal('21.1'))\n",
      "('Africa', 'Mauritius', 'MUS', 'Creole French', 'F', Decimal('70.6'))\n",
      "('Africa', 'Mauritius', 'MUS', 'French', 'F', Decimal('3.4'))\n",
      "('Africa', 'Mauritius', 'MUS', 'Hindi', 'F', Decimal('1.2'))\n",
      "('Africa', 'Mauritius', 'MUS', 'Marathi', 'F', Decimal('0.7'))\n",
      "('Africa', 'Mauritius', 'MUS', 'Tamil', 'F', Decimal('0.8'))\n",
      "('Africa', 'Malawi', 'MWI', 'Chichewa', 'T', Decimal('58.3'))\n",
      "('Africa', 'Malawi', 'MWI', 'Lomwe', 'F', Decimal('18.4'))\n",
      "('Africa', 'Malawi', 'MWI', 'Ngoni', 'F', Decimal('6.7'))\n",
      "('Africa', 'Malawi', 'MWI', 'Yao', 'F', Decimal('13.2'))\n",
      "('Asia', 'Malaysia', 'MYS', 'Chinese', 'F', Decimal('9.0'))\n",
      "('Asia', 'Malaysia', 'MYS', 'Dusun', 'F', Decimal('1.1'))\n",
      "('Asia', 'Malaysia', 'MYS', 'English', 'F', Decimal('1.6'))\n",
      "('Asia', 'Malaysia', 'MYS', 'Iban', 'F', Decimal('2.8'))\n",
      "('Asia', 'Malaysia', 'MYS', 'Malay', 'T', Decimal('58.4'))\n",
      "('Asia', 'Malaysia', 'MYS', 'Tamil', 'F', Decimal('3.9'))\n",
      "('Africa', 'Mayotte', 'MYT', 'French', 'T', Decimal('20.3'))\n",
      "('Africa', 'Mayotte', 'MYT', 'Mahoré', 'F', Decimal('41.9'))\n",
      "('Africa', 'Mayotte', 'MYT', 'Malagasy', 'F', Decimal('16.1'))\n",
      "('Africa', 'Namibia', 'NAM', 'Afrikaans', 'F', Decimal('9.5'))\n",
      "('Africa', 'Namibia', 'NAM', 'Caprivi', 'F', Decimal('4.7'))\n",
      "('Africa', 'Namibia', 'NAM', 'German', 'F', Decimal('0.9'))\n",
      "('Africa', 'Namibia', 'NAM', 'Herero', 'F', Decimal('8.0'))\n",
      "('Africa', 'Namibia', 'NAM', 'Kavango', 'F', Decimal('9.7'))\n",
      "('Africa', 'Namibia', 'NAM', 'Nama', 'F', Decimal('12.4'))\n",
      "('Africa', 'Namibia', 'NAM', 'Ovambo', 'F', Decimal('50.7'))\n",
      "('Africa', 'Namibia', 'NAM', 'San', 'F', Decimal('1.9'))\n",
      "('Oceania', 'New Caledonia', 'NCL', 'French', 'T', Decimal('34.3'))\n",
      "('Oceania', 'New Caledonia', 'NCL', 'Malenasian Languages', 'F', Decimal('45.4'))\n",
      "('Oceania', 'New Caledonia', 'NCL', 'Polynesian Languages', 'F', Decimal('11.6'))\n",
      "('Africa', 'Niger', 'NER', 'Ful', 'F', Decimal('9.7'))\n",
      "('Africa', 'Niger', 'NER', 'Hausa', 'F', Decimal('53.1'))\n",
      "('Africa', 'Niger', 'NER', 'Kanuri', 'F', Decimal('4.4'))\n",
      "('Africa', 'Niger', 'NER', 'Songhai-zerma', 'F', Decimal('21.2'))\n",
      "('Africa', 'Niger', 'NER', 'Tamashek', 'F', Decimal('10.4'))\n",
      "('Oceania', 'Norfolk Island', 'NFK', 'English', 'T', Decimal('0.0'))\n",
      "('Africa', 'Nigeria', 'NGA', 'Bura', 'F', Decimal('1.6'))\n",
      "('Africa', 'Nigeria', 'NGA', 'Edo', 'F', Decimal('3.3'))\n",
      "('Africa', 'Nigeria', 'NGA', 'Ful', 'F', Decimal('11.3'))\n",
      "('Africa', 'Nigeria', 'NGA', 'Hausa', 'F', Decimal('21.1'))\n",
      "('Africa', 'Nigeria', 'NGA', 'Ibibio', 'F', Decimal('5.6'))\n",
      "('Africa', 'Nigeria', 'NGA', 'Ibo', 'F', Decimal('18.1'))\n",
      "('Africa', 'Nigeria', 'NGA', 'Ijo', 'F', Decimal('1.8'))\n",
      "('Africa', 'Nigeria', 'NGA', 'Joruba', 'F', Decimal('21.4'))\n",
      "('Africa', 'Nigeria', 'NGA', 'Kanuri', 'F', Decimal('4.1'))\n",
      "('Africa', 'Nigeria', 'NGA', 'Tiv', 'F', Decimal('2.3'))\n",
      "('North America', 'Nicaragua', 'NIC', 'Creole English', 'F', Decimal('0.5'))\n",
      "('North America', 'Nicaragua', 'NIC', 'Miskito', 'F', Decimal('1.6'))\n",
      "('North America', 'Nicaragua', 'NIC', 'Spanish', 'T', Decimal('97.6'))\n",
      "('North America', 'Nicaragua', 'NIC', 'Sumo', 'F', Decimal('0.2'))\n",
      "('Oceania', 'Niue', 'NIU', 'English', 'T', Decimal('0.0'))\n",
      "('Oceania', 'Niue', 'NIU', 'Niue', 'F', Decimal('0.0'))\n",
      "('Europe', 'Netherlands', 'NLD', 'Arabic', 'F', Decimal('0.9'))\n",
      "('Europe', 'Netherlands', 'NLD', 'Dutch', 'T', Decimal('95.6'))\n",
      "('Europe', 'Netherlands', 'NLD', 'Fries', 'F', Decimal('3.7'))\n",
      "('Europe', 'Netherlands', 'NLD', 'Turkish', 'F', Decimal('0.8'))\n",
      "('Europe', 'Norway', 'NOR', 'Danish', 'F', Decimal('0.4'))\n",
      "('Europe', 'Norway', 'NOR', 'English', 'F', Decimal('0.5'))\n",
      "('Europe', 'Norway', 'NOR', 'Norwegian', 'T', Decimal('96.6'))\n",
      "('Europe', 'Norway', 'NOR', 'Saame', 'F', Decimal('0.0'))\n",
      "('Europe', 'Norway', 'NOR', 'Swedish', 'F', Decimal('0.3'))\n",
      "('Asia', 'Nepal', 'NPL', 'Bhojpuri', 'F', Decimal('7.5'))\n",
      "('Asia', 'Nepal', 'NPL', 'Hindi', 'F', Decimal('3.0'))\n",
      "('Asia', 'Nepal', 'NPL', 'Maithili', 'F', Decimal('11.9'))\n",
      "('Asia', 'Nepal', 'NPL', 'Nepali', 'T', Decimal('50.4'))\n",
      "('Asia', 'Nepal', 'NPL', 'Newari', 'F', Decimal('3.7'))\n",
      "('Asia', 'Nepal', 'NPL', 'Tamang', 'F', Decimal('4.9'))\n",
      "('Asia', 'Nepal', 'NPL', 'Tharu', 'F', Decimal('5.4'))\n",
      "('Oceania', 'Nauru', 'NRU', 'Chinese', 'F', Decimal('8.5'))\n",
      "('Oceania', 'Nauru', 'NRU', 'English', 'T', Decimal('7.5'))\n",
      "('Oceania', 'Nauru', 'NRU', 'Kiribati', 'F', Decimal('17.9'))\n",
      "('Oceania', 'Nauru', 'NRU', 'Nauru', 'T', Decimal('57.5'))\n",
      "('Oceania', 'Nauru', 'NRU', 'Tuvalu', 'F', Decimal('8.5'))\n",
      "('Oceania', 'New Zealand', 'NZL', 'English', 'T', Decimal('87.0'))\n",
      "('Oceania', 'New Zealand', 'NZL', 'Maori', 'F', Decimal('4.3'))\n",
      "('Asia', 'Oman', 'OMN', 'Arabic', 'T', Decimal('76.7'))\n",
      "('Asia', 'Oman', 'OMN', 'Balochi', 'F', Decimal('0.0'))\n",
      "('Asia', 'Pakistan', 'PAK', 'Balochi', 'F', Decimal('3.0'))\n",
      "('Asia', 'Pakistan', 'PAK', 'Brahui', 'F', Decimal('1.2'))\n",
      "('Asia', 'Pakistan', 'PAK', 'Hindko', 'F', Decimal('2.4'))\n",
      "('Asia', 'Pakistan', 'PAK', 'Pashto', 'F', Decimal('13.1'))\n",
      "('Asia', 'Pakistan', 'PAK', 'Punjabi', 'F', Decimal('48.2'))\n",
      "('Asia', 'Pakistan', 'PAK', 'Saraiki', 'F', Decimal('9.8'))\n",
      "('Asia', 'Pakistan', 'PAK', 'Sindhi', 'F', Decimal('11.8'))\n",
      "('Asia', 'Pakistan', 'PAK', 'Urdu', 'T', Decimal('7.6'))\n",
      "('North America', 'Panama', 'PAN', 'Arabic', 'F', Decimal('0.6'))\n",
      "('North America', 'Panama', 'PAN', 'Creole English', 'F', Decimal('14.0'))\n",
      "('North America', 'Panama', 'PAN', 'Cuna', 'F', Decimal('2.0'))\n",
      "('North America', 'Panama', 'PAN', 'Embera', 'F', Decimal('0.6'))\n",
      "('North America', 'Panama', 'PAN', 'Guaymí', 'F', Decimal('5.3'))\n",
      "('North America', 'Panama', 'PAN', 'Spanish', 'T', Decimal('76.8'))\n",
      "('Oceania', 'Pitcairn', 'PCN', 'Pitcairnese', 'F', Decimal('0.0'))\n",
      "('South America', 'Peru', 'PER', 'Aimará', 'T', Decimal('2.3'))\n",
      "('South America', 'Peru', 'PER', 'Ketšua', 'T', Decimal('16.4'))\n",
      "('South America', 'Peru', 'PER', 'Spanish', 'T', Decimal('79.8'))\n",
      "('Asia', 'Philippines', 'PHL', 'Bicol', 'F', Decimal('5.7'))\n",
      "('Asia', 'Philippines', 'PHL', 'Cebuano', 'F', Decimal('23.3'))\n",
      "('Asia', 'Philippines', 'PHL', 'Hiligaynon', 'F', Decimal('9.1'))\n",
      "('Asia', 'Philippines', 'PHL', 'Ilocano', 'F', Decimal('9.3'))\n",
      "('Asia', 'Philippines', 'PHL', 'Maguindanao', 'F', Decimal('1.4'))\n",
      "('Asia', 'Philippines', 'PHL', 'Maranao', 'F', Decimal('1.3'))\n",
      "('Asia', 'Philippines', 'PHL', 'Pampango', 'F', Decimal('3.0'))\n",
      "('Asia', 'Philippines', 'PHL', 'Pangasinan', 'F', Decimal('1.8'))\n",
      "('Asia', 'Philippines', 'PHL', 'Pilipino', 'T', Decimal('29.3'))\n",
      "('Asia', 'Philippines', 'PHL', 'Waray-waray', 'F', Decimal('3.8'))\n",
      "('Oceania', 'Palau', 'PLW', 'Chinese', 'F', Decimal('1.6'))\n",
      "('Oceania', 'Palau', 'PLW', 'English', 'T', Decimal('3.2'))\n",
      "('Oceania', 'Palau', 'PLW', 'Palau', 'T', Decimal('82.2'))\n",
      "('Oceania', 'Palau', 'PLW', 'Philippene Languages', 'F', Decimal('9.2'))\n",
      "('Oceania', 'Papua New Guinea', 'PNG', 'Malenasian Languages', 'F', Decimal('20.0'))\n",
      "('Oceania', 'Papua New Guinea', 'PNG', 'Papuan Languages', 'F', Decimal('78.1'))\n",
      "('Europe', 'Poland', 'POL', 'Belorussian', 'F', Decimal('0.5'))\n",
      "('Europe', 'Poland', 'POL', 'German', 'F', Decimal('1.3'))\n",
      "('Europe', 'Poland', 'POL', 'Polish', 'T', Decimal('97.6'))\n",
      "('Europe', 'Poland', 'POL', 'Ukrainian', 'F', Decimal('0.6'))\n",
      "('North America', 'Puerto Rico', 'PRI', 'English', 'F', Decimal('47.4'))\n",
      "('North America', 'Puerto Rico', 'PRI', 'Spanish', 'T', Decimal('51.3'))\n",
      "('Asia', 'North Korea', 'PRK', 'Chinese', 'F', Decimal('0.1'))\n",
      "('Asia', 'North Korea', 'PRK', 'Korean', 'T', Decimal('99.9'))\n",
      "('Europe', 'Portugal', 'PRT', 'Portuguese', 'T', Decimal('99.0'))\n",
      "('South America', 'Paraguay', 'PRY', 'German', 'F', Decimal('0.9'))\n",
      "('South America', 'Paraguay', 'PRY', 'Guaraní', 'T', Decimal('40.1'))\n",
      "('South America', 'Paraguay', 'PRY', 'Portuguese', 'F', Decimal('3.2'))\n",
      "('South America', 'Paraguay', 'PRY', 'Spanish', 'T', Decimal('55.1'))\n",
      "('Asia', 'Palestine', 'PSE', 'Arabic', 'F', Decimal('95.9'))\n",
      "('Asia', 'Palestine', 'PSE', 'Hebrew', 'F', Decimal('4.1'))\n",
      "('Oceania', 'French Polynesia', 'PYF', 'Chinese', 'F', Decimal('2.9'))\n",
      "('Oceania', 'French Polynesia', 'PYF', 'French', 'T', Decimal('40.8'))\n",
      "('Oceania', 'French Polynesia', 'PYF', 'Tahitian', 'F', Decimal('46.4'))\n",
      "('Asia', 'Qatar', 'QAT', 'Arabic', 'T', Decimal('40.7'))\n",
      "('Asia', 'Qatar', 'QAT', 'Urdu', 'F', Decimal('0.0'))\n",
      "('Africa', 'Réunion', 'REU', 'Chinese', 'F', Decimal('2.8'))\n",
      "('Africa', 'Réunion', 'REU', 'Comorian', 'F', Decimal('2.8'))\n",
      "('Africa', 'Réunion', 'REU', 'Creole French', 'F', Decimal('91.5'))\n",
      "('Africa', 'Réunion', 'REU', 'Malagasy', 'F', Decimal('1.4'))\n",
      "('Africa', 'Réunion', 'REU', 'Tamil', 'F', Decimal('0.0'))\n",
      "('Europe', 'Romania', 'ROM', 'German', 'F', Decimal('0.4'))\n",
      "('Europe', 'Romania', 'ROM', 'Hungarian', 'F', Decimal('7.2'))\n",
      "('Europe', 'Romania', 'ROM', 'Romani', 'T', Decimal('0.7'))\n",
      "('Europe', 'Romania', 'ROM', 'Romanian', 'T', Decimal('90.7'))\n",
      "('Europe', 'Romania', 'ROM', 'Serbo-Croatian', 'F', Decimal('0.1'))\n",
      "('Europe', 'Romania', 'ROM', 'Ukrainian', 'F', Decimal('0.3'))\n",
      "('Europe', 'Russian Federation', 'RUS', 'Avarian', 'F', Decimal('0.4'))\n",
      "('Europe', 'Russian Federation', 'RUS', 'Bashkir', 'F', Decimal('0.7'))\n",
      "('Europe', 'Russian Federation', 'RUS', 'Belorussian', 'F', Decimal('0.3'))\n",
      "('Europe', 'Russian Federation', 'RUS', 'Chechen', 'F', Decimal('0.6'))\n",
      "('Europe', 'Russian Federation', 'RUS', 'Chuvash', 'F', Decimal('0.9'))\n",
      "('Europe', 'Russian Federation', 'RUS', 'Kazakh', 'F', Decimal('0.4'))\n",
      "('Europe', 'Russian Federation', 'RUS', 'Mari', 'F', Decimal('0.4'))\n",
      "('Europe', 'Russian Federation', 'RUS', 'Mordva', 'F', Decimal('0.5'))\n",
      "('Europe', 'Russian Federation', 'RUS', 'Russian', 'T', Decimal('86.6'))\n",
      "('Europe', 'Russian Federation', 'RUS', 'Tatar', 'F', Decimal('3.2'))\n",
      "('Europe', 'Russian Federation', 'RUS', 'Udmur', 'F', Decimal('0.3'))\n",
      "('Europe', 'Russian Federation', 'RUS', 'Ukrainian', 'F', Decimal('1.3'))\n",
      "('Africa', 'Rwanda', 'RWA', 'French', 'T', Decimal('0.0'))\n",
      "('Africa', 'Rwanda', 'RWA', 'Rwanda', 'T', Decimal('100.0'))\n",
      "('Asia', 'Saudi Arabia', 'SAU', 'Arabic', 'T', Decimal('95.0'))\n",
      "('Africa', 'Sudan', 'SDN', 'Arabic', 'T', Decimal('49.4'))\n",
      "('Africa', 'Sudan', 'SDN', 'Bari', 'F', Decimal('2.5'))\n",
      "('Africa', 'Sudan', 'SDN', 'Beja', 'F', Decimal('6.4'))\n",
      "('Africa', 'Sudan', 'SDN', 'Chilluk', 'F', Decimal('1.7'))\n",
      "('Africa', 'Sudan', 'SDN', 'Dinka', 'F', Decimal('11.5'))\n",
      "('Africa', 'Sudan', 'SDN', 'Fur', 'F', Decimal('2.1'))\n",
      "('Africa', 'Sudan', 'SDN', 'Lotuko', 'F', Decimal('1.5'))\n",
      "('Africa', 'Sudan', 'SDN', 'Nubian Languages', 'F', Decimal('8.1'))\n",
      "('Africa', 'Sudan', 'SDN', 'Nuer', 'F', Decimal('4.9'))\n",
      "('Africa', 'Sudan', 'SDN', 'Zande', 'F', Decimal('2.7'))\n",
      "('Africa', 'Senegal', 'SEN', 'Diola', 'F', Decimal('5.0'))\n",
      "('Africa', 'Senegal', 'SEN', 'Ful', 'F', Decimal('21.7'))\n",
      "('Africa', 'Senegal', 'SEN', 'Malinke', 'F', Decimal('3.8'))\n",
      "('Africa', 'Senegal', 'SEN', 'Serer', 'F', Decimal('12.5'))\n",
      "('Africa', 'Senegal', 'SEN', 'Soninke', 'F', Decimal('1.3'))\n",
      "('Africa', 'Senegal', 'SEN', 'Wolof', 'T', Decimal('48.1'))\n",
      "('Asia', 'Singapore', 'SGP', 'Chinese', 'T', Decimal('77.1'))\n",
      "('Asia', 'Singapore', 'SGP', 'Malay', 'T', Decimal('14.1'))\n",
      "('Asia', 'Singapore', 'SGP', 'Tamil', 'T', Decimal('7.4'))\n",
      "('Africa', 'Saint Helena', 'SHN', 'English', 'T', Decimal('0.0'))\n",
      "('Europe', 'Svalbard and Jan Mayen', 'SJM', 'Norwegian', 'T', Decimal('0.0'))\n",
      "('Europe', 'Svalbard and Jan Mayen', 'SJM', 'Russian', 'F', Decimal('0.0'))\n",
      "('Oceania', 'Solomon Islands', 'SLB', 'Malenasian Languages', 'F', Decimal('85.6'))\n",
      "('Oceania', 'Solomon Islands', 'SLB', 'Papuan Languages', 'F', Decimal('8.6'))\n",
      "('Oceania', 'Solomon Islands', 'SLB', 'Polynesian Languages', 'F', Decimal('3.8'))\n",
      "('Africa', 'Sierra Leone', 'SLE', 'Bullom-sherbro', 'F', Decimal('3.8'))\n",
      "('Africa', 'Sierra Leone', 'SLE', 'Ful', 'F', Decimal('3.8'))\n",
      "('Africa', 'Sierra Leone', 'SLE', 'Kono-vai', 'F', Decimal('5.1'))\n",
      "('Africa', 'Sierra Leone', 'SLE', 'Kuranko', 'F', Decimal('3.4'))\n",
      "('Africa', 'Sierra Leone', 'SLE', 'Limba', 'F', Decimal('8.3'))\n",
      "('Africa', 'Sierra Leone', 'SLE', 'Mende', 'F', Decimal('34.8'))\n",
      "('Africa', 'Sierra Leone', 'SLE', 'Temne', 'F', Decimal('31.8'))\n",
      "('Africa', 'Sierra Leone', 'SLE', 'Yalunka', 'F', Decimal('3.4'))\n",
      "('North America', 'El Salvador', 'SLV', 'Nahua', 'F', Decimal('0.0'))\n",
      "('North America', 'El Salvador', 'SLV', 'Spanish', 'T', Decimal('100.0'))\n",
      "('Europe', 'San Marino', 'SMR', 'Italian', 'T', Decimal('100.0'))\n",
      "('Africa', 'Somalia', 'SOM', 'Arabic', 'T', Decimal('0.0'))\n",
      "('Africa', 'Somalia', 'SOM', 'Somali', 'T', Decimal('98.3'))\n",
      "('North America', 'Saint Pierre and Miquelon', 'SPM', 'French', 'T', Decimal('0.0'))\n",
      "('Africa', 'Sao Tome and Principe', 'STP', 'Crioulo', 'F', Decimal('86.3'))\n",
      "('Africa', 'Sao Tome and Principe', 'STP', 'French', 'F', Decimal('0.7'))\n",
      "('South America', 'Suriname', 'SUR', 'Hindi', 'F', Decimal('0.0'))\n",
      "('South America', 'Suriname', 'SUR', 'Sranantonga', 'F', Decimal('81.0'))\n",
      "('Europe', 'Slovakia', 'SVK', 'Czech and Moravian', 'F', Decimal('1.1'))\n",
      "('Europe', 'Slovakia', 'SVK', 'Hungarian', 'F', Decimal('10.5'))\n",
      "('Europe', 'Slovakia', 'SVK', 'Romani', 'F', Decimal('1.7'))\n",
      "('Europe', 'Slovakia', 'SVK', 'Slovak', 'T', Decimal('85.6'))\n",
      "('Europe', 'Slovakia', 'SVK', 'Ukrainian and Russian', 'F', Decimal('0.6'))\n",
      "('Europe', 'Slovenia', 'SVN', 'Hungarian', 'F', Decimal('0.5'))\n",
      "('Europe', 'Slovenia', 'SVN', 'Serbo-Croatian', 'F', Decimal('7.9'))\n",
      "('Europe', 'Slovenia', 'SVN', 'Slovene', 'T', Decimal('87.9'))\n",
      "('Europe', 'Sweden', 'SWE', 'Arabic', 'F', Decimal('0.8'))\n",
      "('Europe', 'Sweden', 'SWE', 'Finnish', 'F', Decimal('2.4'))\n",
      "('Europe', 'Sweden', 'SWE', 'Norwegian', 'F', Decimal('0.5'))\n",
      "('Europe', 'Sweden', 'SWE', 'Southern Slavic Languages', 'F', Decimal('1.3'))\n",
      "('Europe', 'Sweden', 'SWE', 'Spanish', 'F', Decimal('0.6'))\n",
      "('Europe', 'Sweden', 'SWE', 'Swedish', 'T', Decimal('89.5'))\n",
      "('Africa', 'Swaziland', 'SWZ', 'Swazi', 'T', Decimal('89.9'))\n",
      "('Africa', 'Swaziland', 'SWZ', 'Zulu', 'F', Decimal('2.0'))\n",
      "('Africa', 'Seychelles', 'SYC', 'English', 'T', Decimal('3.8'))\n",
      "('Africa', 'Seychelles', 'SYC', 'French', 'T', Decimal('1.3'))\n",
      "('Africa', 'Seychelles', 'SYC', 'Seselwa', 'F', Decimal('91.3'))\n",
      "('Asia', 'Syria', 'SYR', 'Arabic', 'T', Decimal('90.0'))\n",
      "('Asia', 'Syria', 'SYR', 'Kurdish', 'F', Decimal('9.0'))\n",
      "('North America', 'Turks and Caicos Islands', 'TCA', 'English', 'T', Decimal('0.0'))\n",
      "('Africa', 'Chad', 'TCD', 'Arabic', 'T', Decimal('12.3'))\n",
      "('Africa', 'Chad', 'TCD', 'Gorane', 'F', Decimal('6.2'))\n",
      "('Africa', 'Chad', 'TCD', 'Hadjarai', 'F', Decimal('6.7'))\n",
      "('Africa', 'Chad', 'TCD', 'Kanem-bornu', 'F', Decimal('9.0'))\n",
      "('Africa', 'Chad', 'TCD', 'Mayo-kebbi', 'F', Decimal('11.5'))\n",
      "('Africa', 'Chad', 'TCD', 'Ouaddai', 'F', Decimal('8.7'))\n",
      "('Africa', 'Chad', 'TCD', 'Sara', 'F', Decimal('27.7'))\n",
      "('Africa', 'Chad', 'TCD', 'Tandjile', 'F', Decimal('6.5'))\n",
      "('Africa', 'Togo', 'TGO', 'Ane', 'F', Decimal('5.7'))\n",
      "('Africa', 'Togo', 'TGO', 'Ewe', 'T', Decimal('23.2'))\n",
      "('Africa', 'Togo', 'TGO', 'Gurma', 'F', Decimal('3.4'))\n",
      "('Africa', 'Togo', 'TGO', 'Kabyé', 'T', Decimal('13.8'))\n",
      "('Africa', 'Togo', 'TGO', 'Kotokoli', 'F', Decimal('5.7'))\n",
      "('Africa', 'Togo', 'TGO', 'Moba', 'F', Decimal('5.4'))\n",
      "('Africa', 'Togo', 'TGO', 'Naudemba', 'F', Decimal('4.1'))\n",
      "('Africa', 'Togo', 'TGO', 'Watyi', 'F', Decimal('10.3'))\n",
      "('Asia', 'Thailand', 'THA', 'Chinese', 'F', Decimal('12.1'))\n",
      "('Asia', 'Thailand', 'THA', 'Khmer', 'F', Decimal('1.3'))\n",
      "('Asia', 'Thailand', 'THA', 'Kuy', 'F', Decimal('1.1'))\n",
      "('Asia', 'Thailand', 'THA', 'Lao', 'F', Decimal('26.9'))\n",
      "('Asia', 'Thailand', 'THA', 'Malay', 'F', Decimal('3.6'))\n",
      "('Asia', 'Thailand', 'THA', 'Thai', 'T', Decimal('52.6'))\n",
      "('Asia', 'Tajikistan', 'TJK', 'Russian', 'F', Decimal('9.7'))\n",
      "('Asia', 'Tajikistan', 'TJK', 'Tadzhik', 'T', Decimal('62.2'))\n",
      "('Asia', 'Tajikistan', 'TJK', 'Uzbek', 'F', Decimal('23.2'))\n",
      "('Oceania', 'Tokelau', 'TKL', 'English', 'T', Decimal('0.0'))\n",
      "('Oceania', 'Tokelau', 'TKL', 'Tokelau', 'F', Decimal('0.0'))\n",
      "('Asia', 'Turkmenistan', 'TKM', 'Kazakh', 'F', Decimal('2.0'))\n",
      "('Asia', 'Turkmenistan', 'TKM', 'Russian', 'F', Decimal('6.7'))\n",
      "('Asia', 'Turkmenistan', 'TKM', 'Turkmenian', 'T', Decimal('76.7'))\n",
      "('Asia', 'Turkmenistan', 'TKM', 'Uzbek', 'F', Decimal('9.2'))\n",
      "('Asia', 'East Timor', 'TMP', 'Portuguese', 'T', Decimal('0.0'))\n",
      "('Asia', 'East Timor', 'TMP', 'Sunda', 'F', Decimal('0.0'))\n",
      "('Oceania', 'Tonga', 'TON', 'English', 'T', Decimal('0.0'))\n",
      "('Oceania', 'Tonga', 'TON', 'Tongan', 'T', Decimal('98.3'))\n",
      "('North America', 'Trinidad and Tobago', 'TTO', 'Creole English', 'F', Decimal('2.9'))\n",
      "('North America', 'Trinidad and Tobago', 'TTO', 'English', 'F', Decimal('93.5'))\n",
      "('North America', 'Trinidad and Tobago', 'TTO', 'Hindi', 'F', Decimal('3.4'))\n",
      "('Africa', 'Tunisia', 'TUN', 'Arabic', 'T', Decimal('69.9'))\n",
      "('Africa', 'Tunisia', 'TUN', 'Arabic-French', 'F', Decimal('26.3'))\n",
      "('Africa', 'Tunisia', 'TUN', 'Arabic-French-English', 'F', Decimal('3.2'))\n",
      "('Asia', 'Turkey', 'TUR', 'Arabic', 'F', Decimal('1.4'))\n",
      "('Asia', 'Turkey', 'TUR', 'Kurdish', 'F', Decimal('10.6'))\n",
      "('Asia', 'Turkey', 'TUR', 'Turkish', 'T', Decimal('87.6'))\n",
      "('Oceania', 'Tuvalu', 'TUV', 'English', 'T', Decimal('0.0'))\n",
      "('Oceania', 'Tuvalu', 'TUV', 'Kiribati', 'F', Decimal('7.5'))\n",
      "('Oceania', 'Tuvalu', 'TUV', 'Tuvalu', 'T', Decimal('92.5'))\n",
      "('Asia', 'Taiwan', 'TWN', 'Ami', 'F', Decimal('0.6'))\n",
      "('Asia', 'Taiwan', 'TWN', 'Atayal', 'F', Decimal('0.4'))\n",
      "('Asia', 'Taiwan', 'TWN', 'Hakka', 'F', Decimal('11.0'))\n",
      "('Asia', 'Taiwan', 'TWN', 'Mandarin Chinese', 'T', Decimal('20.1'))\n",
      "('Asia', 'Taiwan', 'TWN', 'Min', 'F', Decimal('66.7'))\n",
      "('Asia', 'Taiwan', 'TWN', 'Paiwan', 'F', Decimal('0.3'))\n",
      "('Africa', 'Tanzania', 'TZA', 'Chaga and Pare', 'F', Decimal('4.9'))\n",
      "('Africa', 'Tanzania', 'TZA', 'Gogo', 'F', Decimal('3.9'))\n",
      "('Africa', 'Tanzania', 'TZA', 'Ha', 'F', Decimal('3.5'))\n",
      "('Africa', 'Tanzania', 'TZA', 'Haya', 'F', Decimal('5.9'))\n",
      "('Africa', 'Tanzania', 'TZA', 'Hehet', 'F', Decimal('6.9'))\n",
      "('Africa', 'Tanzania', 'TZA', 'Luguru', 'F', Decimal('4.9'))\n",
      "('Africa', 'Tanzania', 'TZA', 'Makonde', 'F', Decimal('5.9'))\n",
      "('Africa', 'Tanzania', 'TZA', 'Nyakusa', 'F', Decimal('5.4'))\n",
      "('Africa', 'Tanzania', 'TZA', 'Nyamwesi', 'F', Decimal('21.1'))\n",
      "('Africa', 'Tanzania', 'TZA', 'Shambala', 'F', Decimal('4.3'))\n",
      "('Africa', 'Tanzania', 'TZA', 'Swahili', 'T', Decimal('8.8'))\n",
      "('Africa', 'Uganda', 'UGA', 'Acholi', 'F', Decimal('4.4'))\n",
      "('Africa', 'Uganda', 'UGA', 'Ganda', 'F', Decimal('18.1'))\n",
      "('Africa', 'Uganda', 'UGA', 'Gisu', 'F', Decimal('4.5'))\n",
      "('Africa', 'Uganda', 'UGA', 'Kiga', 'F', Decimal('8.3'))\n",
      "('Africa', 'Uganda', 'UGA', 'Lango', 'F', Decimal('5.9'))\n",
      "('Africa', 'Uganda', 'UGA', 'Lugbara', 'F', Decimal('4.7'))\n",
      "('Africa', 'Uganda', 'UGA', 'Nkole', 'F', Decimal('10.7'))\n",
      "('Africa', 'Uganda', 'UGA', 'Rwanda', 'F', Decimal('3.2'))\n",
      "('Africa', 'Uganda', 'UGA', 'Soga', 'F', Decimal('8.2'))\n",
      "('Africa', 'Uganda', 'UGA', 'Teso', 'F', Decimal('6.0'))\n",
      "('Europe', 'Ukraine', 'UKR', 'Belorussian', 'F', Decimal('0.3'))\n",
      "('Europe', 'Ukraine', 'UKR', 'Bulgariana', 'F', Decimal('0.3'))\n",
      "('Europe', 'Ukraine', 'UKR', 'Hungarian', 'F', Decimal('0.3'))\n",
      "('Europe', 'Ukraine', 'UKR', 'Polish', 'F', Decimal('0.1'))\n",
      "('Europe', 'Ukraine', 'UKR', 'Romanian', 'F', Decimal('0.7'))\n",
      "('Europe', 'Ukraine', 'UKR', 'Russian', 'F', Decimal('32.9'))\n",
      "('Europe', 'Ukraine', 'UKR', 'Ukrainian', 'T', Decimal('64.7'))\n",
      "('Oceania', 'United States Minor Outlying Islands', 'UMI', 'English', 'T', Decimal('0.0'))\n",
      "('South America', 'Uruguay', 'URY', 'Spanish', 'T', Decimal('95.7'))\n",
      "('North America', 'United States', 'USA', 'Chinese', 'F', Decimal('0.6'))\n",
      "('North America', 'United States', 'USA', 'English', 'T', Decimal('86.2'))\n",
      "('North America', 'United States', 'USA', 'French', 'F', Decimal('0.7'))\n",
      "('North America', 'United States', 'USA', 'German', 'F', Decimal('0.7'))\n",
      "('North America', 'United States', 'USA', 'Italian', 'F', Decimal('0.6'))\n",
      "('North America', 'United States', 'USA', 'Japanese', 'F', Decimal('0.2'))\n",
      "('North America', 'United States', 'USA', 'Korean', 'F', Decimal('0.3'))\n",
      "('North America', 'United States', 'USA', 'Polish', 'F', Decimal('0.3'))\n",
      "('North America', 'United States', 'USA', 'Portuguese', 'F', Decimal('0.2'))\n",
      "('North America', 'United States', 'USA', 'Spanish', 'F', Decimal('7.5'))\n",
      "('North America', 'United States', 'USA', 'Tagalog', 'F', Decimal('0.4'))\n",
      "('North America', 'United States', 'USA', 'Vietnamese', 'F', Decimal('0.2'))\n",
      "('Asia', 'Uzbekistan', 'UZB', 'Karakalpak', 'F', Decimal('2.0'))\n",
      "('Asia', 'Uzbekistan', 'UZB', 'Kazakh', 'F', Decimal('3.8'))\n",
      "('Asia', 'Uzbekistan', 'UZB', 'Russian', 'F', Decimal('10.9'))\n",
      "('Asia', 'Uzbekistan', 'UZB', 'Tadzhik', 'F', Decimal('4.4'))\n",
      "('Asia', 'Uzbekistan', 'UZB', 'Tatar', 'F', Decimal('1.8'))\n",
      "('Asia', 'Uzbekistan', 'UZB', 'Uzbek', 'T', Decimal('72.6'))\n",
      "('Europe', 'Holy See (Vatican City State)', 'VAT', 'Italian', 'T', Decimal('0.0'))\n",
      "('North America', 'Saint Vincent and the Grenadines', 'VCT', 'Creole English', 'F', Decimal('99.1'))\n",
      "('North America', 'Saint Vincent and the Grenadines', 'VCT', 'English', 'T', Decimal('0.0'))\n",
      "('South America', 'Venezuela', 'VEN', 'Goajiro', 'F', Decimal('0.4'))\n",
      "('South America', 'Venezuela', 'VEN', 'Spanish', 'T', Decimal('96.9'))\n",
      "('South America', 'Venezuela', 'VEN', 'Warrau', 'F', Decimal('0.1'))\n",
      "('North America', 'Virgin Islands, British', 'VGB', 'English', 'T', Decimal('0.0'))\n",
      "('North America', 'Virgin Islands, U.S.', 'VIR', 'English', 'T', Decimal('81.7'))\n",
      "('North America', 'Virgin Islands, U.S.', 'VIR', 'French', 'F', Decimal('2.5'))\n",
      "('North America', 'Virgin Islands, U.S.', 'VIR', 'Spanish', 'F', Decimal('13.3'))\n",
      "('Asia', 'Vietnam', 'VNM', 'Chinese', 'F', Decimal('1.4'))\n",
      "('Asia', 'Vietnam', 'VNM', 'Khmer', 'F', Decimal('1.4'))\n",
      "('Asia', 'Vietnam', 'VNM', 'Man', 'F', Decimal('0.7'))\n",
      "('Asia', 'Vietnam', 'VNM', 'Miao', 'F', Decimal('0.9'))\n",
      "('Asia', 'Vietnam', 'VNM', 'Muong', 'F', Decimal('1.5'))\n",
      "('Asia', 'Vietnam', 'VNM', 'Nung', 'F', Decimal('1.1'))\n",
      "('Asia', 'Vietnam', 'VNM', 'Thai', 'F', Decimal('1.6'))\n",
      "('Asia', 'Vietnam', 'VNM', 'Tho', 'F', Decimal('1.8'))\n",
      "('Asia', 'Vietnam', 'VNM', 'Vietnamese', 'T', Decimal('86.8'))\n",
      "('Oceania', 'Vanuatu', 'VUT', 'Bislama', 'T', Decimal('56.6'))\n",
      "('Oceania', 'Vanuatu', 'VUT', 'English', 'T', Decimal('28.3'))\n",
      "('Oceania', 'Vanuatu', 'VUT', 'French', 'T', Decimal('14.2'))\n",
      "('Oceania', 'Wallis and Futuna', 'WLF', 'Futuna', 'F', Decimal('0.0'))\n",
      "('Oceania', 'Wallis and Futuna', 'WLF', 'Wallis', 'F', Decimal('0.0'))\n",
      "('Oceania', 'Samoa', 'WSM', 'English', 'T', Decimal('0.6'))\n",
      "('Oceania', 'Samoa', 'WSM', 'Samoan', 'T', Decimal('47.5'))\n",
      "('Oceania', 'Samoa', 'WSM', 'Samoan-English', 'F', Decimal('52.0'))\n",
      "('Asia', 'Yemen', 'YEM', 'Arabic', 'T', Decimal('99.6'))\n",
      "('Asia', 'Yemen', 'YEM', 'Soqutri', 'F', Decimal('0.0'))\n",
      "('Europe', 'Yugoslavia', 'YUG', 'Albaniana', 'F', Decimal('16.5'))\n",
      "('Europe', 'Yugoslavia', 'YUG', 'Hungarian', 'F', Decimal('3.4'))\n",
      "('Europe', 'Yugoslavia', 'YUG', 'Macedonian', 'F', Decimal('0.5'))\n",
      "('Europe', 'Yugoslavia', 'YUG', 'Romani', 'F', Decimal('1.4'))\n",
      "('Europe', 'Yugoslavia', 'YUG', 'Serbo-Croatian', 'T', Decimal('75.2'))\n",
      "('Europe', 'Yugoslavia', 'YUG', 'Slovak', 'F', Decimal('0.7'))\n",
      "('Africa', 'South Africa', 'ZAF', 'Afrikaans', 'T', Decimal('14.3'))\n",
      "('Africa', 'South Africa', 'ZAF', 'English', 'T', Decimal('8.5'))\n",
      "('Africa', 'South Africa', 'ZAF', 'Ndebele', 'F', Decimal('1.5'))\n",
      "('Africa', 'South Africa', 'ZAF', 'Northsotho', 'F', Decimal('9.1'))\n",
      "('Africa', 'South Africa', 'ZAF', 'Southsotho', 'F', Decimal('7.6'))\n",
      "('Africa', 'South Africa', 'ZAF', 'Swazi', 'F', Decimal('2.5'))\n",
      "('Africa', 'South Africa', 'ZAF', 'Tsonga', 'F', Decimal('4.3'))\n",
      "('Africa', 'South Africa', 'ZAF', 'Tswana', 'F', Decimal('8.1'))\n",
      "('Africa', 'South Africa', 'ZAF', 'Venda', 'F', Decimal('2.2'))\n",
      "('Africa', 'South Africa', 'ZAF', 'Xhosa', 'T', Decimal('17.7'))\n",
      "('Africa', 'South Africa', 'ZAF', 'Zulu', 'T', Decimal('22.7'))\n",
      "('Africa', 'Zambia', 'ZMB', 'Bemba', 'F', Decimal('29.7'))\n",
      "('Africa', 'Zambia', 'ZMB', 'Chewa', 'F', Decimal('5.7'))\n",
      "('Africa', 'Zambia', 'ZMB', 'Lozi', 'F', Decimal('6.4'))\n",
      "('Africa', 'Zambia', 'ZMB', 'Nsenga', 'F', Decimal('4.3'))\n",
      "('Africa', 'Zambia', 'ZMB', 'Nyanja', 'F', Decimal('7.8'))\n",
      "('Africa', 'Zambia', 'ZMB', 'Tongan', 'F', Decimal('11.0'))\n",
      "('Africa', 'Zimbabwe', 'ZWE', 'English', 'T', Decimal('2.2'))\n",
      "('Africa', 'Zimbabwe', 'ZWE', 'Ndebele', 'F', Decimal('16.2'))\n",
      "('Africa', 'Zimbabwe', 'ZWE', 'Nyanja', 'F', Decimal('2.2'))\n",
      "('Africa', 'Zimbabwe', 'ZWE', 'Shona', 'F', Decimal('72.1'))\n"
     ]
    }
   ],
   "source": [
    "Continent_language =\"SELECT y.Continent,y.Name,x.*  FROM countrylanguage x inner join country y on x.countrycode=y.code;\"\n",
    "cursor.execute(Continent_language)\n",
    "filas = cursor.fetchall()\n",
    "print(\"Resultado consulta:\")\n",
    "for fila in filas:\n",
    "   print(fila)"
   ]
  },
  {
   "cell_type": "code",
   "execution_count": null,
   "id": "18cd90b0-8cee-4e33-b742-1f9c2aec7732",
   "metadata": {},
   "outputs": [],
   "source": []
  }
 ],
 "metadata": {
  "kernelspec": {
   "display_name": "Python 3",
   "language": "python",
   "name": "python3"
  },
  "language_info": {
   "codemirror_mode": {
    "name": "ipython",
    "version": 3
   },
   "file_extension": ".py",
   "mimetype": "text/x-python",
   "name": "python",
   "nbconvert_exporter": "python",
   "pygments_lexer": "ipython3",
   "version": "3.9.4"
  }
 },
 "nbformat": 4,
 "nbformat_minor": 5
}
